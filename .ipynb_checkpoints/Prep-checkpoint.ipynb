{
 "cells": [
  {
   "cell_type": "code",
   "execution_count": 1,
   "metadata": {},
   "outputs": [],
   "source": [
    "# import pandas as pd\n",
    "# import numpy as np\n",
    "# import re\n",
    "#Importing everything from NLP Week 1 - following that as a guide for now\n",
    "import gzip\n",
    "import json\n",
    "import matplotlib.pyplot as plt\n",
    "import numpy as np\n",
    "import re\n",
    "import random\n",
    "import pandas as pd\n",
    "import seaborn as sns\n",
    "from collections import Counter, defaultdict\n",
    "from sklearn.dummy import DummyClassifier\n",
    "from sklearn.feature_extraction.text import TfidfVectorizer\n",
    "from sklearn.linear_model import LogisticRegression\n",
    "from sklearn.metrics import f1_score\n",
    "from sklearn.model_selection import train_test_split\n",
    "from tqdm import tqdm\n",
    "pd.options.display.max_rows = 100\n",
    "pd.options.display.width = 150\n",
    "RANDOM_SEED = 696\n",
    "\n",
    "\n",
    "from sklearn.pipeline import Pipeline\n",
    "from sklearn.model_selection import GridSearchCV"
   ]
  },
  {
   "cell_type": "code",
   "execution_count": 2,
   "metadata": {},
   "outputs": [
    {
     "data": {
      "text/plain": [
       "150"
      ]
     },
     "execution_count": 2,
     "metadata": {},
     "output_type": "execute_result"
    }
   ],
   "source": [
    "pd.get_option(\"display.width\")"
   ]
  },
  {
   "cell_type": "code",
   "execution_count": 3,
   "metadata": {},
   "outputs": [],
   "source": [
    "WikiLarge_Train_df = pd.read_csv(r'assets/WikiLarge_Train.csv')#, \\"
   ]
  },
  {
   "cell_type": "code",
   "execution_count": 4,
   "metadata": {},
   "outputs": [],
   "source": [
    "# print(WikiLarge_Train_df.tail())\n",
    "# print(WikiLarge_Train_df['label'].value_counts())"
   ]
  },
  {
   "cell_type": "code",
   "execution_count": 5,
   "metadata": {},
   "outputs": [],
   "source": [
    "WikiLarge_Train_df['parsed_list'] = 0\n",
    "WikiLarge_Train_df['All_Characters'] = 0\n",
    "WikiLarge_Train_df['Is_Int'] = 0\n",
    "for i, row in WikiLarge_Train_df.iterrows():\n",
    "        temp = row['original_text']\n",
    "        WikiLarge_Train_df['parsed_list'].at[i] = re.split(r'(\\s)', temp)\n",
    "        if temp.isalpha():\n",
    "                WikiLarge_Train_df['All_Characters'].at[i] = 1\n",
    "        try:\n",
    "                int(temp)\n",
    "                WikiLarge_Train_df['Is_Int'].at[i] = 1\n",
    "        except:\n",
    "                pass\n",
    "\n",
    "        #WikiLarge_Train_df['parsed_list'].at[i] = re.split(r'(-|,|\\s)\\s*', temp)\n",
    "        # Do we need to be greedy?\n",
    "\n",
    "# Are commas always split by spaces?"
   ]
  },
  {
   "cell_type": "code",
   "execution_count": 6,
   "metadata": {},
   "outputs": [
    {
     "name": "stdout",
     "output_type": "stream",
     "text": [
      "                                       original_text  label                                        parsed_list  All_Characters  Is_Int\n",
      "0  There is manuscript evidence that Austen conti...      1  [There,  , is,  , manuscript,  , evidence,  , ...               0       0\n",
      "1  In a remarkable comparative analysis , Mandaea...      1  [In,  , a,  , remarkable,  , comparative,  , a...               0       0\n",
      "2  Before Persephone was released to Hermes , who...      1  [Before,  , Persephone,  , was,  , released,  ...               0       0\n",
      "3  Cogeneration plants are commonly found in dist...      1  [Cogeneration,  , plants,  , are,  , commonly,...               0       0\n",
      "4  Geneva -LRB- , ; , ; , ; ; -RRB- is the second...      1  [Geneva,  , -LRB-,  , ,,  , ;,  , ,,  , ;,  , ...               0       0\n"
     ]
    }
   ],
   "source": [
    "print(WikiLarge_Train_df.head(5))"
   ]
  },
  {
   "cell_type": "code",
   "execution_count": 7,
   "metadata": {},
   "outputs": [
    {
     "data": {
      "text/plain": [
       "0    407992\n",
       "1      8776\n",
       "Name: All_Characters, dtype: int64"
      ]
     },
     "execution_count": 7,
     "metadata": {},
     "output_type": "execute_result"
    }
   ],
   "source": [
    "WikiLarge_Train_df['All_Characters'].value_counts()"
   ]
  },
  {
   "cell_type": "code",
   "execution_count": 8,
   "metadata": {},
   "outputs": [
    {
     "name": "stdout",
     "output_type": "stream",
     "text": [
      "0    416718\n",
      "1        50\n",
      "Name: Is_Int, dtype: int64\n",
      "0    40\n",
      "1    10\n",
      "Name: label, dtype: int64\n"
     ]
    }
   ],
   "source": [
    "#Not many -so I'm not going to worry about these\n",
    "print(WikiLarge_Train_df['Is_Int'].value_counts())\n",
    "print(WikiLarge_Train_df[WikiLarge_Train_df['Is_Int'] ==1 ]['label'].value_counts())\n",
    "# The following shows there's no rhyme or reason to the way they're flagged\n",
    "# WikiLarge_Train_df[WikiLarge_Train_df['Is_Int'] ==1 ].head(50)"
   ]
  },
  {
   "cell_type": "markdown",
   "metadata": {},
   "source": [
    "Okay, lets divide the set into train dev and test just for fun and see about getting started"
   ]
  },
  {
   "cell_type": "code",
   "execution_count": 9,
   "metadata": {},
   "outputs": [],
   "source": [
    "train_df, dev_df, test_df = np.split(WikiLarge_Train_df.sample(frac=1, random_state= RANDOM_SEED), \n",
    "                       [int(.8*len(WikiLarge_Train_df)), int(.9*len(WikiLarge_Train_df))], axis = 0)"
   ]
  },
  {
   "cell_type": "code",
   "execution_count": 10,
   "metadata": {},
   "outputs": [
    {
     "name": "stdout",
     "output_type": "stream",
     "text": [
      "(333414, 5)\n",
      "(41677, 5)\n",
      "(41677, 5)\n"
     ]
    }
   ],
   "source": [
    "print(train_df.shape)\n",
    "print(dev_df.shape)\n",
    "print(test_df.shape)"
   ]
  },
  {
   "cell_type": "markdown",
   "metadata": {},
   "source": [
    "FROM NLP Week 1:\n",
    "\n",
    "What tokens should count as a \"word\" and how do we find them? For this exercise, we'll try extract three kinds of tokens using different methods to see what happens\n",
    "\n",
    "1. ws_tokens: dict count of tokens separated by whitespace\n",
    "2. alpha_ws_tokens: dict count of tokens separated by whitespace and are alpha numeric\n",
    "3. alpha_re_tokens: dict count of tokens separated by word boundaries that only consist of alphanumeric characters\n",
    "\n",
    "As quick example of how these are different, let's say we have the sentence \"My computer says 'I don't know...' but after thinking about it, I think it does.\"\n",
    "\n",
    "* The first case should return ['My', 'computer', 'says', \"'I\", \"don't\", \"know...'\", 'but', 'after', 'thinking', 'about', 'it,', 'I', 'think', 'it', 'does.'], which we can see contains a bunch of tokens that have punctuation with them.\n",
    "\n",
    "* The second case should return ['My', 'computer', 'says', 'but', 'after', 'thinking', 'about', 'I', 'think', 'it'] which is filtering out a lot more tokens. We see that any token with any punctuation gets removed. This is probably too much but the tokens do look cleaner\n",
    "\n",
    "* The third case should return ['My', 'computer', 'says', 'I', 'don', 't', 'know', 'but', 'after', 'thinking', 'about', 'it', 'I', 'think', 'it', 'does'], which gives us all the tokens. Here we see that it's also split \"don't\" into two tokens too! We could modify our regex some to allow intra-token punctuation to avoid this but for now we'll keep it a it simple."
   ]
  },
  {
   "cell_type": "code",
   "execution_count": 11,
   "metadata": {},
   "outputs": [
    {
     "name": "stderr",
     "output_type": "stream",
     "text": [
      "100%|████████████████████████████████████████████████████████████████████████| 333414/333414 [00:12<00:00, 25952.91it/s]\n"
     ]
    }
   ],
   "source": [
    "ws_tokens = Counter()\n",
    "alpha_ws_tokens = Counter()\n",
    "alpha_re_tokens = Counter()\n",
    "count = 0\n",
    "\n",
    "for sent in tqdm(train_df.original_text):\n",
    "#if count > 1:\n",
    "    alphanumeric_list = []\n",
    "    alpha_re_list = []\n",
    "    sentlist = sent.split()\n",
    "\n",
    "    ws_tokens.update(sentlist)\n",
    "\n",
    "    for element in sentlist:\n",
    "        #alphanumeric_regex = re.compile(r'[a-zA-Z0-9]+')\n",
    "        alphanumeric_regex = re.compile(r'\\w+')\n",
    "        if re.fullmatch(alphanumeric_regex, element) != None:\n",
    "            alphanumeric_list.append(element)\n",
    "            #print(\"element:\", element, \"\\nalpha_ws_list:\",alpha_ws_list)\n",
    "\n",
    "    alpha_re_list = re.findall(alphanumeric_regex, sent)\n",
    "    alpha_ws_tokens.update(alphanumeric_list)\n",
    "    alpha_re_tokens.update(alpha_re_list)"
   ]
  },
  {
   "cell_type": "code",
   "execution_count": 12,
   "metadata": {},
   "outputs": [
    {
     "name": "stdout",
     "output_type": "stream",
     "text": [
      "180497\n",
      "150320\n",
      "155812\n"
     ]
    }
   ],
   "source": [
    "print(len(ws_tokens))\n",
    "print(len(alpha_ws_tokens))\n",
    "print(len(alpha_re_tokens))"
   ]
  },
  {
   "cell_type": "code",
   "execution_count": 13,
   "metadata": {},
   "outputs": [
    {
     "data": {
      "text/plain": [
       "[('the', 388051),\n",
       " ('of', 231298),\n",
       " ('in', 184434),\n",
       " ('and', 168008),\n",
       " ('a', 146692),\n",
       " ('is', 130853),\n",
       " ('to', 99037),\n",
       " ('RRB', 87115),\n",
       " ('LRB', 86878),\n",
       " ('The', 69017),\n",
       " ('was', 65924),\n",
       " ('as', 47474),\n",
       " ('for', 42317),\n",
       " ('by', 42126),\n",
       " ('on', 40038),\n",
       " ('with', 33040),\n",
       " ('s', 30582),\n",
       " ('that', 29589),\n",
       " ('from', 29501),\n",
       " ('are', 27668),\n",
       " ('an', 27376),\n",
       " ('or', 26066),\n",
       " ('It', 23917),\n",
       " ('at', 22762),\n",
       " ('his', 19793),\n",
       " ('which', 18768),\n",
       " ('In', 18721),\n",
       " ('it', 17895),\n",
       " ('also', 16284),\n",
       " ('has', 15611),\n",
       " ('be', 15144),\n",
       " ('he', 14975),\n",
       " ('born', 14891),\n",
       " ('first', 14506),\n",
       " ('were', 13468),\n",
       " ('France', 13454),\n",
       " ('He', 13349),\n",
       " ('one', 12754),\n",
       " ('known', 11524),\n",
       " ('who', 11262),\n",
       " ('United', 11159),\n",
       " ('not', 10888),\n",
       " ('its', 10738),\n",
       " ('department', 10574),\n",
       " ('have', 10282),\n",
       " ('city', 10253),\n",
       " ('A', 10196),\n",
       " ('de', 10067),\n",
       " ('1', 9896),\n",
       " ('commune', 9647)]"
      ]
     },
     "execution_count": 13,
     "metadata": {},
     "output_type": "execute_result"
    }
   ],
   "source": [
    "top_50 = alpha_re_tokens.most_common(50)\n",
    "#hidden tests are within this cell\n",
    "top_50"
   ]
  },
  {
   "cell_type": "code",
   "execution_count": 14,
   "metadata": {},
   "outputs": [
    {
     "name": "stdout",
     "output_type": "stream",
     "text": [
      "155812 0 155811\n",
      "155812 0.05914372062349407 1.5241223608106686e-07\n"
     ]
    },
    {
     "data": {
      "image/png": "[encoded data removed]",
      "text/plain": [
       "<Figure size 640x480 with 1 Axes>"
      ]
     },
     "metadata": {},
     "output_type": "display_data"
    }
   ],
   "source": [
    "#Plot the word distribution\n",
    "dict_pairs = dict(alpha_re_tokens)\n",
    "total_counts = sum(dict_pairs.values())\n",
    "\n",
    "#sorted_dict = {}\n",
    "sorted_keys = sorted(dict_pairs, key=dict_pairs.get, reverse=True) \n",
    "x = [] #rank\n",
    "y = [] #probability\n",
    "count = 0\n",
    "for w in sorted_keys:\n",
    "    #print(w, dict_pairs[w], sorted_dict)\n",
    "    x.append(count)\n",
    "    y.append(dict_pairs[w] / total_counts)\n",
    "    count += 1\n",
    "\n",
    "print(len(x), x[0], x[-1])\n",
    "print(len(y), y[0], y[-1])\n",
    "\n",
    "ax = plt.plot(x, y, '.')\n",
    "plt.yscale('log')\n",
    "plt.xscale('log')"
   ]
  },
  {
   "cell_type": "markdown",
   "metadata": {},
   "source": [
    "Convert text to features"
   ]
  },
  {
   "cell_type": "code",
   "execution_count": 15,
   "metadata": {},
   "outputs": [
    {
     "name": "stdout",
     "output_type": "stream",
     "text": [
      "(333414, 1099)\n"
     ]
    }
   ],
   "source": [
    "vectorizer = TfidfVectorizer(min_df=500, stop_words= 'english')\n",
    "X_train = vectorizer.fit_transform(train_df.original_text)\n",
    "print(X_train.shape)"
   ]
  },
  {
   "cell_type": "code",
   "execution_count": 16,
   "metadata": {},
   "outputs": [],
   "source": [
    "#Make list of labels\n",
    "y_train = list(train_df.label)"
   ]
  },
  {
   "cell_type": "markdown",
   "metadata": {},
   "source": [
    "Fit the classifier - using all the data but could narrow this down to save time. Lets just see if it takes a long time"
   ]
  },
  {
   "cell_type": "code",
   "execution_count": 17,
   "metadata": {},
   "outputs": [
    {
     "data": {
      "text/html": [
       "<style>#sk-container-id-1 {color: black;background-color: white;}#sk-container-id-1 pre{padding: 0;}#sk-container-id-1 div.sk-toggleable {background-color: white;}#sk-container-id-1 label.sk-toggleable__label {cursor: pointer;display: block;width: 100%;margin-bottom: 0;padding: 0.3em;box-sizing: border-box;text-align: center;}#sk-container-id-1 label.sk-toggleable__label-arrow:before {content: \"▸\";float: left;margin-right: 0.25em;color: #696969;}#sk-container-id-1 label.sk-toggleable__label-arrow:hover:before {color: black;}#sk-container-id-1 div.sk-estimator:hover label.sk-toggleable__label-arrow:before {color: black;}#sk-container-id-1 div.sk-toggleable__content {max-height: 0;max-width: 0;overflow: hidden;text-align: left;background-color: #f0f8ff;}#sk-container-id-1 div.sk-toggleable__content pre {margin: 0.2em;color: black;border-radius: 0.25em;background-color: #f0f8ff;}#sk-container-id-1 input.sk-toggleable__control:checked~div.sk-toggleable__content {max-height: 200px;max-width: 100%;overflow: auto;}#sk-container-id-1 input.sk-toggleable__control:checked~label.sk-toggleable__label-arrow:before {content: \"▾\";}#sk-container-id-1 div.sk-estimator input.sk-toggleable__control:checked~label.sk-toggleable__label {background-color: #d4ebff;}#sk-container-id-1 div.sk-label input.sk-toggleable__control:checked~label.sk-toggleable__label {background-color: #d4ebff;}#sk-container-id-1 input.sk-hidden--visually {border: 0;clip: rect(1px 1px 1px 1px);clip: rect(1px, 1px, 1px, 1px);height: 1px;margin: -1px;overflow: hidden;padding: 0;position: absolute;width: 1px;}#sk-container-id-1 div.sk-estimator {font-family: monospace;background-color: #f0f8ff;border: 1px dotted black;border-radius: 0.25em;box-sizing: border-box;margin-bottom: 0.5em;}#sk-container-id-1 div.sk-estimator:hover {background-color: #d4ebff;}#sk-container-id-1 div.sk-parallel-item::after {content: \"\";width: 100%;border-bottom: 1px solid gray;flex-grow: 1;}#sk-container-id-1 div.sk-label:hover label.sk-toggleable__label {background-color: #d4ebff;}#sk-container-id-1 div.sk-serial::before {content: \"\";position: absolute;border-left: 1px solid gray;box-sizing: border-box;top: 0;bottom: 0;left: 50%;z-index: 0;}#sk-container-id-1 div.sk-serial {display: flex;flex-direction: column;align-items: center;background-color: white;padding-right: 0.2em;padding-left: 0.2em;position: relative;}#sk-container-id-1 div.sk-item {position: relative;z-index: 1;}#sk-container-id-1 div.sk-parallel {display: flex;align-items: stretch;justify-content: center;background-color: white;position: relative;}#sk-container-id-1 div.sk-item::before, #sk-container-id-1 div.sk-parallel-item::before {content: \"\";position: absolute;border-left: 1px solid gray;box-sizing: border-box;top: 0;bottom: 0;left: 50%;z-index: -1;}#sk-container-id-1 div.sk-parallel-item {display: flex;flex-direction: column;z-index: 1;position: relative;background-color: white;}#sk-container-id-1 div.sk-parallel-item:first-child::after {align-self: flex-end;width: 50%;}#sk-container-id-1 div.sk-parallel-item:last-child::after {align-self: flex-start;width: 50%;}#sk-container-id-1 div.sk-parallel-item:only-child::after {width: 0;}#sk-container-id-1 div.sk-dashed-wrapped {border: 1px dashed gray;margin: 0 0.4em 0.5em 0.4em;box-sizing: border-box;padding-bottom: 0.4em;background-color: white;}#sk-container-id-1 div.sk-label label {font-family: monospace;font-weight: bold;display: inline-block;line-height: 1.2em;}#sk-container-id-1 div.sk-label-container {text-align: center;}#sk-container-id-1 div.sk-container {/* jupyter's `normalize.less` sets `[hidden] { display: none; }` but bootstrap.min.css set `[hidden] { display: none !important; }` so we also need the `!important` here to be able to override the default hidden behavior on the sphinx rendered scikit-learn.org. See: https://github.com/scikit-learn/scikit-learn/issues/21755 */display: inline-block !important;position: relative;}#sk-container-id-1 div.sk-text-repr-fallback {display: none;}</style><div id=\"sk-container-id-1\" class=\"sk-top-container\"><div class=\"sk-text-repr-fallback\"><pre>LogisticRegression(max_iter=500, multi_class=&#x27;ovr&#x27;, random_state=696,\n",
       "                   solver=&#x27;newton-cholesky&#x27;)</pre><b>In a Jupyter environment, please rerun this cell to show the HTML representation or trust the notebook. <br />On GitHub, the HTML representation is unable to render, please try loading this page with nbviewer.org.</b></div><div class=\"sk-container\" hidden><div class=\"sk-item\"><div class=\"sk-estimator sk-toggleable\"><input class=\"sk-toggleable__control sk-hidden--visually\" id=\"sk-estimator-id-1\" type=\"checkbox\" checked><label for=\"sk-estimator-id-1\" class=\"sk-toggleable__label sk-toggleable__label-arrow\">LogisticRegression</label><div class=\"sk-toggleable__content\"><pre>LogisticRegression(max_iter=500, multi_class=&#x27;ovr&#x27;, random_state=696,\n",
       "                   solver=&#x27;newton-cholesky&#x27;)</pre></div></div></div></div></div>"
      ],
      "text/plain": [
       "LogisticRegression(max_iter=500, multi_class='ovr', random_state=696,\n",
       "                   solver='newton-cholesky')"
      ]
     },
     "execution_count": 17,
     "metadata": {},
     "output_type": "execute_result"
    }
   ],
   "source": [
    "clf = LogisticRegression(random_state=RANDOM_SEED, max_iter=500, multi_class='ovr', solver= 'newton-cholesky')\n",
    "#clf.fit(X_train[0:10000,:], y_train[0:10000])\n",
    "clf.fit(X_train, y_train)"
   ]
  },
  {
   "cell_type": "markdown",
   "metadata": {},
   "source": [
    "Generate the dev data"
   ]
  },
  {
   "cell_type": "code",
   "execution_count": 18,
   "metadata": {},
   "outputs": [
    {
     "data": {
      "text/plain": [
       "scipy.sparse._csr.csr_matrix"
      ]
     },
     "execution_count": 18,
     "metadata": {},
     "output_type": "execute_result"
    }
   ],
   "source": [
    "X_dev = vectorizer.transform(dev_df.original_text)\n",
    "y_dev = list(dev_df.label)\n",
    "type(X_dev)"
   ]
  },
  {
   "cell_type": "markdown",
   "metadata": {},
   "source": [
    "Create the Dummy Classifiers"
   ]
  },
  {
   "cell_type": "code",
   "execution_count": 19,
   "metadata": {},
   "outputs": [
    {
     "data": {
      "text/html": [
       "<style>#sk-container-id-2 {color: black;background-color: white;}#sk-container-id-2 pre{padding: 0;}#sk-container-id-2 div.sk-toggleable {background-color: white;}#sk-container-id-2 label.sk-toggleable__label {cursor: pointer;display: block;width: 100%;margin-bottom: 0;padding: 0.3em;box-sizing: border-box;text-align: center;}#sk-container-id-2 label.sk-toggleable__label-arrow:before {content: \"▸\";float: left;margin-right: 0.25em;color: #696969;}#sk-container-id-2 label.sk-toggleable__label-arrow:hover:before {color: black;}#sk-container-id-2 div.sk-estimator:hover label.sk-toggleable__label-arrow:before {color: black;}#sk-container-id-2 div.sk-toggleable__content {max-height: 0;max-width: 0;overflow: hidden;text-align: left;background-color: #f0f8ff;}#sk-container-id-2 div.sk-toggleable__content pre {margin: 0.2em;color: black;border-radius: 0.25em;background-color: #f0f8ff;}#sk-container-id-2 input.sk-toggleable__control:checked~div.sk-toggleable__content {max-height: 200px;max-width: 100%;overflow: auto;}#sk-container-id-2 input.sk-toggleable__control:checked~label.sk-toggleable__label-arrow:before {content: \"▾\";}#sk-container-id-2 div.sk-estimator input.sk-toggleable__control:checked~label.sk-toggleable__label {background-color: #d4ebff;}#sk-container-id-2 div.sk-label input.sk-toggleable__control:checked~label.sk-toggleable__label {background-color: #d4ebff;}#sk-container-id-2 input.sk-hidden--visually {border: 0;clip: rect(1px 1px 1px 1px);clip: rect(1px, 1px, 1px, 1px);height: 1px;margin: -1px;overflow: hidden;padding: 0;position: absolute;width: 1px;}#sk-container-id-2 div.sk-estimator {font-family: monospace;background-color: #f0f8ff;border: 1px dotted black;border-radius: 0.25em;box-sizing: border-box;margin-bottom: 0.5em;}#sk-container-id-2 div.sk-estimator:hover {background-color: #d4ebff;}#sk-container-id-2 div.sk-parallel-item::after {content: \"\";width: 100%;border-bottom: 1px solid gray;flex-grow: 1;}#sk-container-id-2 div.sk-label:hover label.sk-toggleable__label {background-color: #d4ebff;}#sk-container-id-2 div.sk-serial::before {content: \"\";position: absolute;border-left: 1px solid gray;box-sizing: border-box;top: 0;bottom: 0;left: 50%;z-index: 0;}#sk-container-id-2 div.sk-serial {display: flex;flex-direction: column;align-items: center;background-color: white;padding-right: 0.2em;padding-left: 0.2em;position: relative;}#sk-container-id-2 div.sk-item {position: relative;z-index: 1;}#sk-container-id-2 div.sk-parallel {display: flex;align-items: stretch;justify-content: center;background-color: white;position: relative;}#sk-container-id-2 div.sk-item::before, #sk-container-id-2 div.sk-parallel-item::before {content: \"\";position: absolute;border-left: 1px solid gray;box-sizing: border-box;top: 0;bottom: 0;left: 50%;z-index: -1;}#sk-container-id-2 div.sk-parallel-item {display: flex;flex-direction: column;z-index: 1;position: relative;background-color: white;}#sk-container-id-2 div.sk-parallel-item:first-child::after {align-self: flex-end;width: 50%;}#sk-container-id-2 div.sk-parallel-item:last-child::after {align-self: flex-start;width: 50%;}#sk-container-id-2 div.sk-parallel-item:only-child::after {width: 0;}#sk-container-id-2 div.sk-dashed-wrapped {border: 1px dashed gray;margin: 0 0.4em 0.5em 0.4em;box-sizing: border-box;padding-bottom: 0.4em;background-color: white;}#sk-container-id-2 div.sk-label label {font-family: monospace;font-weight: bold;display: inline-block;line-height: 1.2em;}#sk-container-id-2 div.sk-label-container {text-align: center;}#sk-container-id-2 div.sk-container {/* jupyter's `normalize.less` sets `[hidden] { display: none; }` but bootstrap.min.css set `[hidden] { display: none !important; }` so we also need the `!important` here to be able to override the default hidden behavior on the sphinx rendered scikit-learn.org. See: https://github.com/scikit-learn/scikit-learn/issues/21755 */display: inline-block !important;position: relative;}#sk-container-id-2 div.sk-text-repr-fallback {display: none;}</style><div id=\"sk-container-id-2\" class=\"sk-top-container\"><div class=\"sk-text-repr-fallback\"><pre>DummyClassifier(random_state=696, strategy=&#x27;most_frequent&#x27;)</pre><b>In a Jupyter environment, please rerun this cell to show the HTML representation or trust the notebook. <br />On GitHub, the HTML representation is unable to render, please try loading this page with nbviewer.org.</b></div><div class=\"sk-container\" hidden><div class=\"sk-item\"><div class=\"sk-estimator sk-toggleable\"><input class=\"sk-toggleable__control sk-hidden--visually\" id=\"sk-estimator-id-2\" type=\"checkbox\" checked><label for=\"sk-estimator-id-2\" class=\"sk-toggleable__label sk-toggleable__label-arrow\">DummyClassifier</label><div class=\"sk-toggleable__content\"><pre>DummyClassifier(random_state=696, strategy=&#x27;most_frequent&#x27;)</pre></div></div></div></div></div>"
      ],
      "text/plain": [
       "DummyClassifier(random_state=696, strategy='most_frequent')"
      ]
     },
     "execution_count": 19,
     "metadata": {},
     "output_type": "execute_result"
    }
   ],
   "source": [
    "uniform_dummy = DummyClassifier(strategy='uniform', random_state = RANDOM_SEED, constant=None)\n",
    "most_freq_dummy = DummyClassifier(strategy='most_frequent', random_state = RANDOM_SEED, constant=None)\n",
    "\n",
    "uniform_dummy.fit(X_train, y_train)\n",
    "most_freq_dummy.fit(X_train, y_train)"
   ]
  },
  {
   "cell_type": "markdown",
   "metadata": {},
   "source": [
    "Generate the predictions"
   ]
  },
  {
   "cell_type": "code",
   "execution_count": 20,
   "metadata": {},
   "outputs": [],
   "source": [
    "lr_tiny_dev_preds = clf.predict(X_dev)\n",
    "rand_dev_preds = uniform_dummy.predict(X_dev)\n",
    "mf_dev_preds = most_freq_dummy.predict(X_dev)"
   ]
  },
  {
   "cell_type": "markdown",
   "metadata": {},
   "source": [
    "Score the predictions"
   ]
  },
  {
   "cell_type": "code",
   "execution_count": 21,
   "metadata": {},
   "outputs": [
    {
     "name": "stdout",
     "output_type": "stream",
     "text": [
      "0.6421682653633889\n",
      "0.49840355363816646\n",
      "0.333061289806369\n"
     ]
    }
   ],
   "source": [
    "lr_f1 = f1_score(y_dev, lr_tiny_dev_preds, average='macro')\n",
    "rand_f1 = f1_score(y_dev, rand_dev_preds, average='macro')\n",
    "mf_f1 = f1_score(y_dev, mf_dev_preds, average='macro')\n",
    "print(lr_f1)\n",
    "print(rand_f1)\n",
    "print(mf_f1)"
   ]
  },
  {
   "cell_type": "markdown",
   "metadata": {},
   "source": [
    "Create a function for the steps so we can run it for various amounts of data to see the difference"
   ]
  },
  {
   "cell_type": "markdown",
   "metadata": {},
   "source": [
    "## Matt experiments:\n",
    "\n",
    "### 1\n",
    " TfidfVectorizer(min_df=25, max_df= .9, strip_accents='ascii' ,stop_words='english', analyzer='char_wb', ngram_range=(1,3))\n",
    " \n",
    " LogisticRegression(random_state=RANDOM_SEED, max_iter=500, C=.1, multi_class='ovr', solver= 'newton-cg')\n",
    " \n",
    " [0.5367548454017107, 0.655777640516025, 0.674599129866489, 0.6804460573909678, 0.688381517756455]\n",
    "\n",
    "### 2\n",
    " TfidfVectorizer(min_df=25, max_df= .9, strip_accents='ascii' ,stop_words='english', analyzer='char_wb', ngram_range=(1,3), lowercase=False)\n",
    " \n",
    "  LogisticRegression(random_state=RANDOM_SEED, max_iter=500, C=.1, multi_class='ovr', solver= 'newton-cg')\n",
    " \n",
    " [0.5431826182998672, 0.6592851964393285, 0.6770780203143197, 0.682915289861274, 0.6933228754367546]"
   ]
  },
  {
   "cell_type": "code",
   "execution_count": 27,
   "metadata": {},
   "outputs": [
    {
     "name": "stderr",
     "output_type": "stream",
     "text": [
      "/home/matt/anaconda3/lib/python3.9/site-packages/sklearn/utils/optimize.py:210: ConvergenceWarning: newton-cg failed to converge. Increase the number of iterations.\n",
      "  warnings.warn(\n",
      "/home/matt/anaconda3/lib/python3.9/site-packages/sklearn/utils/optimize.py:210: ConvergenceWarning: newton-cg failed to converge. Increase the number of iterations.\n",
      "  warnings.warn(\n",
      "/home/matt/anaconda3/lib/python3.9/site-packages/sklearn/utils/optimize.py:210: ConvergenceWarning: newton-cg failed to converge. Increase the number of iterations.\n",
      "  warnings.warn(\n",
      "/home/matt/anaconda3/lib/python3.9/site-packages/sklearn/utils/optimize.py:210: ConvergenceWarning: newton-cg failed to converge. Increase the number of iterations.\n",
      "  warnings.warn(\n",
      "/home/matt/anaconda3/lib/python3.9/site-packages/sklearn/utils/optimize.py:210: ConvergenceWarning: newton-cg failed to converge. Increase the number of iterations.\n",
      "  warnings.warn(\n",
      "/home/matt/anaconda3/lib/python3.9/site-packages/sklearn/utils/optimize.py:210: ConvergenceWarning: newton-cg failed to converge. Increase the number of iterations.\n",
      "  warnings.warn(\n",
      "/home/matt/anaconda3/lib/python3.9/site-packages/sklearn/utils/optimize.py:210: ConvergenceWarning: newton-cg failed to converge. Increase the number of iterations.\n",
      "  warnings.warn(\n",
      "/home/matt/anaconda3/lib/python3.9/site-packages/sklearn/utils/optimize.py:210: ConvergenceWarning: newton-cg failed to converge. Increase the number of iterations.\n",
      "  warnings.warn(\n",
      "/home/matt/anaconda3/lib/python3.9/site-packages/sklearn/utils/optimize.py:210: ConvergenceWarning: newton-cg failed to converge. Increase the number of iterations.\n",
      "  warnings.warn(\n",
      "/home/matt/anaconda3/lib/python3.9/site-packages/sklearn/utils/optimize.py:210: ConvergenceWarning: newton-cg failed to converge. Increase the number of iterations.\n",
      "  warnings.warn(\n"
     ]
    }
   ],
   "source": [
    "# Vectorizer\n",
    "vectorizer = TfidfVectorizer(min_df=25, max_df= .9, strip_accents='ascii',  analyzer='char_wb', ngram_range=(1,3), lowercase=False)\n",
    "\n",
    "# Transform data and labels\n",
    "X_train = vectorizer.fit_transform(train_df.original_text)\n",
    "y_train = list(train_df.label)\n",
    "\n",
    "# Pipeline and grid\n",
    "pipeline = Pipeline([('classifier', LogisticRegression())])\n",
    "\n",
    "param_grid = [\n",
    "    {'classifier': [LogisticRegression()],WW\n",
    "     'classifier__penalty' : ['l2'],\n",
    "     'classifier__C': np.logspace(0,4,50),\n",
    "     'classifier__solver': ['newton-cholesky', 'newton-cg'],\n",
    "    }\n",
    "]\n",
    "\n",
    "# Grid setup and train\n",
    "clf = GridSearchCV(pipeline, param_grid=param_grid, cv=3, n_jobs=4, pre_dispatch=4)\n",
    "\n",
    "best_clf = clf.fit(X_train, y_train)"
   ]
  },
  {
   "cell_type": "code",
   "execution_count": 32,
   "metadata": {},
   "outputs": [
    {
     "data": {
      "text/plain": [
       "{'classifier': LogisticRegression(solver='newton-cholesky'),\n",
       " 'classifier__C': 1.0,\n",
       " 'classifier__penalty': 'l2',\n",
       " 'classifier__solver': 'newton-cholesky'}"
      ]
     },
     "execution_count": 32,
     "metadata": {},
     "output_type": "execute_result"
    }
   ],
   "source": [
    "best_clf.best_params_"
   ]
  },
  {
   "cell_type": "code",
   "execution_count": 34,
   "metadata": {},
   "outputs": [
    {
     "name": "stderr",
     "output_type": "stream",
     "text": [
      "100%|█████████████████████████████████████████████████████████████████████████████████████| 5/5 [05:32<00:00, 66.54s/it]\n"
     ]
    }
   ],
   "source": [
    "def train_and_score(train_df, dev_df):\n",
    "    # Fit a new TfidfVectorizer\n",
    "    #vectorizer = TfidfVectorizer(min_df=25, stop_words= 'english')\n",
    "    vectorizer = TfidfVectorizer(min_df=25, max_df= .9, strip_accents='ascii',  analyzer='char_wb', ngram_range=(1,3), lowercase=False)\n",
    "    X_train = vectorizer.fit_transform(train_df.original_text)\n",
    "\n",
    "    #Get the labels\n",
    "    y_train = list(train_df.label)\n",
    "\n",
    "    #Fit the data to a Logistic Regression Classifier (in this example a subset of 10k)\n",
    "    #clf = LogisticRegression(random_state=RANDOM_SEED, multi_class='auto', solver= 'lbfgs')\n",
    "    clf = LogisticRegression(random_state=RANDOM_SEED, max_iter=500, C=1, multi_class='ovr', solver= 'newton-cholesky')\n",
    "    clf.fit(X_train, y_train)\n",
    "\n",
    "    # Generate the dev data\n",
    "    X_dev = vectorizer.transform(dev_df.original_text)\n",
    "    y_dev = list(dev_df.label)\n",
    "\n",
    "    # Generate the predictions\n",
    "    lr_tiny_dev_preds = clf.predict(X_dev)\n",
    "\n",
    "    # Score the predictions\n",
    "    f1 = f1_score(y_dev, lr_tiny_dev_preds, average='macro')\n",
    "\n",
    "    # the function returns the macro-averaged F1 score on the dev data\n",
    "    return f1\n",
    "\n",
    "def change_in_performance(training_sizes, train_df, dev_df):\n",
    "    random.seed(RANDOM_SEED)\n",
    "    f1_scores = []\n",
    "    for training_size in tqdm(training_sizes):\n",
    "        f1_scores.append(train_and_score(train_df.head(training_size), dev_df))\n",
    "    return(f1_scores)\n",
    "\n",
    "training_sizes = [1000, 10000, 50000, 100000, 333414]\n",
    "performace_f1_scores = change_in_performance(training_sizes, train_df, dev_df)"
   ]
  },
  {
   "cell_type": "markdown",
   "metadata": {},
   "source": [
    "Used these tips from NLP Week 1 to fine tune:\n",
    "\n",
    "Overall lots of room for improvement. We could certainly try fine-tuning some of the hyperparameters though! Some useful ideas to try by altering the TF-IDF vectorizer or classifier:\n",
    "* use lower `min_df` to increase the number of features\n",
    "* don't use stopword removal\n",
    "* tune the `C` parameter on the logistic regression classifier\n",
    "* don't lower-case the text \n",
    "* use a `CountVectorizer` instead of a TF-IDF vectorizer\n",
    "* set `max_df` to remove common features\n",
    "\n",
    "Which do you think will lead to higher performance? Try some out and report on the Slack or Piazza what's the highest performance you can achieve!"
   ]
  },
  {
   "cell_type": "code",
   "execution_count": 35,
   "metadata": {},
   "outputs": [
    {
     "name": "stdout",
     "output_type": "stream",
     "text": [
      "[0.6183723953111302, 0.6673916826003882, 0.6818282649034958, 0.6877756360255619, 0.6962710421128029]\n"
     ]
    },
    {
     "data": {
      "text/plain": [
       "<AxesSubplot: xlabel='num_instances', ylabel='f1'>"
      ]
     },
     "execution_count": 35,
     "metadata": {},
     "output_type": "execute_result"
    },
    {
     "data": {
      "image/png": "[encoded data removed]",
      "text/plain": [
       "<Figure size 640x480 with 1 Axes>"
      ]
     },
     "metadata": {},
     "output_type": "display_data"
    }
   ],
   "source": [
    "print(performace_f1_scores)\n",
    "\n",
    "df = pd.DataFrame({'num_instances': training_sizes, 'f1': performace_f1_scores})\n",
    "sns.barplot(data=df, x='num_instances', y='f1')"
   ]
  },
  {
   "cell_type": "markdown",
   "metadata": {},
   "source": [
    "Try a uni, bi, and trigram vectorizer"
   ]
  },
  {
   "cell_type": "code",
   "execution_count": 27,
   "metadata": {},
   "outputs": [
    {
     "name": "stdout",
     "output_type": "stream",
     "text": [
      "(333414, 23797)\n"
     ]
    }
   ],
   "source": [
    "trigram_vectorizer = TfidfVectorizer(stop_words='english', min_df=25, ngram_range=(1,3))\n",
    "X_train = trigram_vectorizer.fit_transform(train_df.original_text)\n",
    "print(X_train.shape)\n",
    "clf = LogisticRegression(random_state=RANDOM_SEED, multi_class='ovr', solver= 'newton-cg')\n",
    "clf.fit(X_train, y_train)\n",
    "#featurize the dev data\n",
    "X_dev = trigram_vectorizer.transform(dev_df.original_text)\n",
    "#predict the dev data and score\n",
    "lr_trigram_dev_preds = clf.predict(X_dev)\n",
    "lr_f1 = f1_score(y_dev, lr_trigram_dev_preds, average='macro')"
   ]
  },
  {
   "cell_type": "code",
   "execution_count": 28,
   "metadata": {},
   "outputs": [
    {
     "name": "stdout",
     "output_type": "stream",
     "text": [
      "0.6879448653584948\n"
     ]
    }
   ],
   "source": [
    "print(lr_f1)"
   ]
  },
  {
   "cell_type": "markdown",
   "metadata": {},
   "source": [
    "min_df @ 500, ngram_range(1,3), multi_class='ovr', solver = 'newton-cholesky' (didn't take too long) scored 0.6451618658\n",
    "min_df @  25, ngram_range(1,3), multi_class='ovr', solver = 'newton-cholesky' (6m 19.1s) scored 0.6880169450552442"
   ]
  },
  {
   "cell_type": "markdown",
   "metadata": {},
   "source": [
    "Read in the Dale Chall text - into a list"
   ]
  },
  {
   "cell_type": "code",
   "execution_count": 30,
   "metadata": {},
   "outputs": [
    {
     "name": "stdout",
     "output_type": "stream",
     "text": [
      "['a', 'able', 'aboard', 'about', 'above ']\n"
     ]
    }
   ],
   "source": [
    "dc_text = open(r'assets/dale_chall.txt', \"r\")\n",
    "dalechall_file = dc_text.read()\n",
    "# split text on new line\n",
    "dalechall_list = dalechall_file.split('\\n')\n",
    "print(dalechall_list[0:5])"
   ]
  },
  {
   "cell_type": "code",
   "execution_count": 31,
   "metadata": {},
   "outputs": [
    {
     "data": {
      "text/plain": [
       "2950"
      ]
     },
     "execution_count": 31,
     "metadata": {},
     "output_type": "execute_result"
    }
   ],
   "source": [
    "len(dalechall_list)"
   ]
  },
  {
   "cell_type": "markdown",
   "metadata": {},
   "source": [
    "# Scores"
   ]
  },
  {
   "cell_type": "code",
   "execution_count": 57,
   "metadata": {},
   "outputs": [],
   "source": [
    "# !pip install spacy\n",
    "# !pip install spacy_syllables\n",
    "# !python -m spacy download en_core_web_lg\n",
    "# !python -m spacy download en_core_web_sm"
   ]
  },
  {
   "cell_type": "code",
   "execution_count": 54,
   "metadata": {},
   "outputs": [],
   "source": [
    "import re\n",
    "import spacy\n",
    "from spacy_syllables import SpacySyllables"
   ]
  },
  {
   "cell_type": "code",
   "execution_count": 58,
   "metadata": {},
   "outputs": [
    {
     "data": {
      "text/plain": [
       "<spacy_syllables.SpacySyllables at 0x7faaeec3e4f0>"
      ]
     },
     "execution_count": 58,
     "metadata": {},
     "output_type": "execute_result"
    }
   ],
   "source": [
    "# using https://spacy.io/universe/project/spacy_syllables\n",
    "nlp = spacy.load(\"en_core_web_lg\")\n",
    "nlp.add_pipe(\"syllables\", after=\"tagger\")"
   ]
  },
  {
   "cell_type": "code",
   "execution_count": 60,
   "metadata": {},
   "outputs": [
    {
     "ename": "TypeError",
     "evalue": "unsupported operand type(s) for +: 'int' and 'NoneType'",
     "output_type": "error",
     "traceback": [
      "\u001b[0;31m---------------------------------------------------------------------------\u001b[0m",
      "\u001b[0;31mTypeError\u001b[0m                                 Traceback (most recent call last)",
      "Cell \u001b[0;32mIn[60], line 9\u001b[0m\n\u001b[1;32m      7\u001b[0m WikiLarge_Train_df[\u001b[38;5;124m'\u001b[39m\u001b[38;5;124mtotal_characters\u001b[39m\u001b[38;5;124m'\u001b[39m] \u001b[38;5;241m=\u001b[39m WikiLarge_Train_df[\u001b[38;5;124m'\u001b[39m\u001b[38;5;124mog_split\u001b[39m\u001b[38;5;124m'\u001b[39m]\u001b[38;5;241m.\u001b[39mapply(\u001b[38;5;28;01mlambda\u001b[39;00m x: \u001b[38;5;28msum\u001b[39m([\u001b[38;5;28mlen\u001b[39m(y) \u001b[38;5;28;01mfor\u001b[39;00m y \u001b[38;5;129;01min\u001b[39;00m x]))\n\u001b[1;32m      8\u001b[0m WikiLarge_Train_df[\u001b[38;5;124m'\u001b[39m\u001b[38;5;124msyl_list\u001b[39m\u001b[38;5;124m'\u001b[39m] \u001b[38;5;241m=\u001b[39m WikiLarge_Train_df[\u001b[38;5;124m'\u001b[39m\u001b[38;5;124moriginal_text\u001b[39m\u001b[38;5;124m'\u001b[39m]\u001b[38;5;241m.\u001b[39mapply(\u001b[38;5;28;01mlambda\u001b[39;00m x: [token\u001b[38;5;241m.\u001b[39m_\u001b[38;5;241m.\u001b[39msyllables_count \u001b[38;5;28;01mfor\u001b[39;00m token \u001b[38;5;129;01min\u001b[39;00m nlp(x)])\n\u001b[0;32m----> 9\u001b[0m WikiLarge_Train_df[\u001b[38;5;124m'\u001b[39m\u001b[38;5;124mtotal_syllables\u001b[39m\u001b[38;5;124m'\u001b[39m] \u001b[38;5;241m=\u001b[39m \u001b[43mWikiLarge_Train_df\u001b[49m\u001b[43m[\u001b[49m\u001b[38;5;124;43m'\u001b[39;49m\u001b[38;5;124;43msyl_list\u001b[39;49m\u001b[38;5;124;43m'\u001b[39;49m\u001b[43m]\u001b[49m\u001b[38;5;241;43m.\u001b[39;49m\u001b[43mapply\u001b[49m\u001b[43m(\u001b[49m\u001b[38;5;28;43;01mlambda\u001b[39;49;00m\u001b[43m \u001b[49m\u001b[43mx\u001b[49m\u001b[43m:\u001b[49m\u001b[43m \u001b[49m\u001b[38;5;28;43msum\u001b[39;49m\u001b[43m(\u001b[49m\u001b[43mx\u001b[49m\u001b[43m)\u001b[49m\u001b[43m)\u001b[49m\n\u001b[1;32m     10\u001b[0m WikiLarge_Train_df[\u001b[38;5;124m'\u001b[39m\u001b[38;5;124mtotal_polysyllables\u001b[39m\u001b[38;5;124m'\u001b[39m] \u001b[38;5;241m=\u001b[39m WikiLarge_Train_df[\u001b[38;5;124m'\u001b[39m\u001b[38;5;124msyl_list\u001b[39m\u001b[38;5;124m'\u001b[39m]\u001b[38;5;241m.\u001b[39mapply(\u001b[38;5;28;01mlambda\u001b[39;00m x: \u001b[38;5;28msum\u001b[39m([\u001b[38;5;241m1\u001b[39m \u001b[38;5;28;01mfor\u001b[39;00m y \u001b[38;5;129;01min\u001b[39;00m x \u001b[38;5;28;01mif\u001b[39;00m y\u001b[38;5;241m>\u001b[39m\u001b[38;5;241m2\u001b[39m]))\n\u001b[1;32m     13\u001b[0m WikiLarge_Train_df\n",
      "File \u001b[0;32m~/anaconda3/lib/python3.9/site-packages/pandas/core/series.py:4771\u001b[0m, in \u001b[0;36mSeries.apply\u001b[0;34m(self, func, convert_dtype, args, **kwargs)\u001b[0m\n\u001b[1;32m   4661\u001b[0m \u001b[38;5;28;01mdef\u001b[39;00m \u001b[38;5;21mapply\u001b[39m(\n\u001b[1;32m   4662\u001b[0m     \u001b[38;5;28mself\u001b[39m,\n\u001b[1;32m   4663\u001b[0m     func: AggFuncType,\n\u001b[0;32m   (...)\u001b[0m\n\u001b[1;32m   4666\u001b[0m     \u001b[38;5;241m*\u001b[39m\u001b[38;5;241m*\u001b[39mkwargs,\n\u001b[1;32m   4667\u001b[0m ) \u001b[38;5;241m-\u001b[39m\u001b[38;5;241m>\u001b[39m DataFrame \u001b[38;5;241m|\u001b[39m Series:\n\u001b[1;32m   4668\u001b[0m \u001b[38;5;250m    \u001b[39m\u001b[38;5;124;03m\"\"\"\u001b[39;00m\n\u001b[1;32m   4669\u001b[0m \u001b[38;5;124;03m    Invoke function on values of Series.\u001b[39;00m\n\u001b[1;32m   4670\u001b[0m \n\u001b[0;32m   (...)\u001b[0m\n\u001b[1;32m   4769\u001b[0m \u001b[38;5;124;03m    dtype: float64\u001b[39;00m\n\u001b[1;32m   4770\u001b[0m \u001b[38;5;124;03m    \"\"\"\u001b[39;00m\n\u001b[0;32m-> 4771\u001b[0m     \u001b[38;5;28;01mreturn\u001b[39;00m \u001b[43mSeriesApply\u001b[49m\u001b[43m(\u001b[49m\u001b[38;5;28;43mself\u001b[39;49m\u001b[43m,\u001b[49m\u001b[43m \u001b[49m\u001b[43mfunc\u001b[49m\u001b[43m,\u001b[49m\u001b[43m \u001b[49m\u001b[43mconvert_dtype\u001b[49m\u001b[43m,\u001b[49m\u001b[43m \u001b[49m\u001b[43margs\u001b[49m\u001b[43m,\u001b[49m\u001b[43m \u001b[49m\u001b[43mkwargs\u001b[49m\u001b[43m)\u001b[49m\u001b[38;5;241;43m.\u001b[39;49m\u001b[43mapply\u001b[49m\u001b[43m(\u001b[49m\u001b[43m)\u001b[49m\n",
      "File \u001b[0;32m~/anaconda3/lib/python3.9/site-packages/pandas/core/apply.py:1123\u001b[0m, in \u001b[0;36mSeriesApply.apply\u001b[0;34m(self)\u001b[0m\n\u001b[1;32m   1120\u001b[0m     \u001b[38;5;28;01mreturn\u001b[39;00m \u001b[38;5;28mself\u001b[39m\u001b[38;5;241m.\u001b[39mapply_str()\n\u001b[1;32m   1122\u001b[0m \u001b[38;5;66;03m# self.f is Callable\u001b[39;00m\n\u001b[0;32m-> 1123\u001b[0m \u001b[38;5;28;01mreturn\u001b[39;00m \u001b[38;5;28;43mself\u001b[39;49m\u001b[38;5;241;43m.\u001b[39;49m\u001b[43mapply_standard\u001b[49m\u001b[43m(\u001b[49m\u001b[43m)\u001b[49m\n",
      "File \u001b[0;32m~/anaconda3/lib/python3.9/site-packages/pandas/core/apply.py:1174\u001b[0m, in \u001b[0;36mSeriesApply.apply_standard\u001b[0;34m(self)\u001b[0m\n\u001b[1;32m   1172\u001b[0m     \u001b[38;5;28;01melse\u001b[39;00m:\n\u001b[1;32m   1173\u001b[0m         values \u001b[38;5;241m=\u001b[39m obj\u001b[38;5;241m.\u001b[39mastype(\u001b[38;5;28mobject\u001b[39m)\u001b[38;5;241m.\u001b[39m_values\n\u001b[0;32m-> 1174\u001b[0m         mapped \u001b[38;5;241m=\u001b[39m \u001b[43mlib\u001b[49m\u001b[38;5;241;43m.\u001b[39;49m\u001b[43mmap_infer\u001b[49m\u001b[43m(\u001b[49m\n\u001b[1;32m   1175\u001b[0m \u001b[43m            \u001b[49m\u001b[43mvalues\u001b[49m\u001b[43m,\u001b[49m\n\u001b[1;32m   1176\u001b[0m \u001b[43m            \u001b[49m\u001b[43mf\u001b[49m\u001b[43m,\u001b[49m\n\u001b[1;32m   1177\u001b[0m \u001b[43m            \u001b[49m\u001b[43mconvert\u001b[49m\u001b[38;5;241;43m=\u001b[39;49m\u001b[38;5;28;43mself\u001b[39;49m\u001b[38;5;241;43m.\u001b[39;49m\u001b[43mconvert_dtype\u001b[49m\u001b[43m,\u001b[49m\n\u001b[1;32m   1178\u001b[0m \u001b[43m        \u001b[49m\u001b[43m)\u001b[49m\n\u001b[1;32m   1180\u001b[0m \u001b[38;5;28;01mif\u001b[39;00m \u001b[38;5;28mlen\u001b[39m(mapped) \u001b[38;5;129;01mand\u001b[39;00m \u001b[38;5;28misinstance\u001b[39m(mapped[\u001b[38;5;241m0\u001b[39m], ABCSeries):\n\u001b[1;32m   1181\u001b[0m     \u001b[38;5;66;03m# GH#43986 Need to do list(mapped) in order to get treated as nested\u001b[39;00m\n\u001b[1;32m   1182\u001b[0m     \u001b[38;5;66;03m#  See also GH#25959 regarding EA support\u001b[39;00m\n\u001b[1;32m   1183\u001b[0m     \u001b[38;5;28;01mreturn\u001b[39;00m obj\u001b[38;5;241m.\u001b[39m_constructor_expanddim(\u001b[38;5;28mlist\u001b[39m(mapped), index\u001b[38;5;241m=\u001b[39mobj\u001b[38;5;241m.\u001b[39mindex)\n",
      "File \u001b[0;32m~/anaconda3/lib/python3.9/site-packages/pandas/_libs/lib.pyx:2924\u001b[0m, in \u001b[0;36mpandas._libs.lib.map_infer\u001b[0;34m()\u001b[0m\n",
      "Cell \u001b[0;32mIn[60], line 9\u001b[0m, in \u001b[0;36m<lambda>\u001b[0;34m(x)\u001b[0m\n\u001b[1;32m      7\u001b[0m WikiLarge_Train_df[\u001b[38;5;124m'\u001b[39m\u001b[38;5;124mtotal_characters\u001b[39m\u001b[38;5;124m'\u001b[39m] \u001b[38;5;241m=\u001b[39m WikiLarge_Train_df[\u001b[38;5;124m'\u001b[39m\u001b[38;5;124mog_split\u001b[39m\u001b[38;5;124m'\u001b[39m]\u001b[38;5;241m.\u001b[39mapply(\u001b[38;5;28;01mlambda\u001b[39;00m x: \u001b[38;5;28msum\u001b[39m([\u001b[38;5;28mlen\u001b[39m(y) \u001b[38;5;28;01mfor\u001b[39;00m y \u001b[38;5;129;01min\u001b[39;00m x]))\n\u001b[1;32m      8\u001b[0m WikiLarge_Train_df[\u001b[38;5;124m'\u001b[39m\u001b[38;5;124msyl_list\u001b[39m\u001b[38;5;124m'\u001b[39m] \u001b[38;5;241m=\u001b[39m WikiLarge_Train_df[\u001b[38;5;124m'\u001b[39m\u001b[38;5;124moriginal_text\u001b[39m\u001b[38;5;124m'\u001b[39m]\u001b[38;5;241m.\u001b[39mapply(\u001b[38;5;28;01mlambda\u001b[39;00m x: [token\u001b[38;5;241m.\u001b[39m_\u001b[38;5;241m.\u001b[39msyllables_count \u001b[38;5;28;01mfor\u001b[39;00m token \u001b[38;5;129;01min\u001b[39;00m nlp(x)])\n\u001b[0;32m----> 9\u001b[0m WikiLarge_Train_df[\u001b[38;5;124m'\u001b[39m\u001b[38;5;124mtotal_syllables\u001b[39m\u001b[38;5;124m'\u001b[39m] \u001b[38;5;241m=\u001b[39m WikiLarge_Train_df[\u001b[38;5;124m'\u001b[39m\u001b[38;5;124msyl_list\u001b[39m\u001b[38;5;124m'\u001b[39m]\u001b[38;5;241m.\u001b[39mapply(\u001b[38;5;28;01mlambda\u001b[39;00m x: \u001b[38;5;28;43msum\u001b[39;49m\u001b[43m(\u001b[49m\u001b[43mx\u001b[49m\u001b[43m)\u001b[49m)\n\u001b[1;32m     10\u001b[0m WikiLarge_Train_df[\u001b[38;5;124m'\u001b[39m\u001b[38;5;124mtotal_polysyllables\u001b[39m\u001b[38;5;124m'\u001b[39m] \u001b[38;5;241m=\u001b[39m WikiLarge_Train_df[\u001b[38;5;124m'\u001b[39m\u001b[38;5;124msyl_list\u001b[39m\u001b[38;5;124m'\u001b[39m]\u001b[38;5;241m.\u001b[39mapply(\u001b[38;5;28;01mlambda\u001b[39;00m x: \u001b[38;5;28msum\u001b[39m([\u001b[38;5;241m1\u001b[39m \u001b[38;5;28;01mfor\u001b[39;00m y \u001b[38;5;129;01min\u001b[39;00m x \u001b[38;5;28;01mif\u001b[39;00m y\u001b[38;5;241m>\u001b[39m\u001b[38;5;241m2\u001b[39m]))\n\u001b[1;32m     13\u001b[0m WikiLarge_Train_df\n",
      "\u001b[0;31mTypeError\u001b[0m: unsupported operand type(s) for +: 'int' and 'NoneType'"
     ]
    }
   ],
   "source": [
    "split_pat = re.compile(r'\\b\\s+\\b')\n",
    "\n",
    "WikiLarge_Train_df['og_split'] = WikiLarge_Train_df['original_text'].apply(lambda x: re.split(split_pat, x))\n",
    "WikiLarge_Train_df['total_words'] = WikiLarge_Train_df['og_split'].apply(lambda x: len(x))\n",
    "WikiLarge_Train_df['long_words'] = WikiLarge_Train_df['og_split'].apply(lambda x: len([y for y in x if len(y) > 7]))\n",
    "WikiLarge_Train_df['total_sentences'] = 1\n",
    "WikiLarge_Train_df['total_characters'] = WikiLarge_Train_df['og_split'].apply(lambda x: sum([len(y) for y in x]))\n",
    "WikiLarge_Train_df['syl_list'] = WikiLarge_Train_df['original_text'].apply(lambda x: [token._.syllables_count for token in nlp(x)])"
   ]
  },
  {
   "cell_type": "code",
   "execution_count": 62,
   "metadata": {},
   "outputs": [
    {
     "data": {
      "text/html": [
       "<div>\n",
       "<style scoped>\n",
       "    .dataframe tbody tr th:only-of-type {\n",
       "        vertical-align: middle;\n",
       "    }\n",
       "\n",
       "    .dataframe tbody tr th {\n",
       "        vertical-align: top;\n",
       "    }\n",
       "\n",
       "    .dataframe thead th {\n",
       "        text-align: right;\n",
       "    }\n",
       "</style>\n",
       "<table border=\"1\" class=\"dataframe\">\n",
       "  <thead>\n",
       "    <tr style=\"text-align: right;\">\n",
       "      <th></th>\n",
       "      <th>original_text</th>\n",
       "      <th>label</th>\n",
       "      <th>parsed_list</th>\n",
       "      <th>All_Characters</th>\n",
       "      <th>Is_Int</th>\n",
       "      <th>total_words</th>\n",
       "      <th>og_split</th>\n",
       "      <th>long_words</th>\n",
       "      <th>total_sentences</th>\n",
       "      <th>total_characters</th>\n",
       "      <th>syl_list</th>\n",
       "    </tr>\n",
       "  </thead>\n",
       "  <tbody>\n",
       "    <tr>\n",
       "      <th>0</th>\n",
       "      <td>There is manuscript evidence that Austen conti...</td>\n",
       "      <td>1</td>\n",
       "      <td>[There,  , is,  , manuscript,  , evidence,  , ...</td>\n",
       "      <td>0</td>\n",
       "      <td>0</td>\n",
       "      <td>34</td>\n",
       "      <td>[There, is, manuscript, evidence, that, Austen...</td>\n",
       "      <td>7</td>\n",
       "      <td>1</td>\n",
       "      <td>182</td>\n",
       "      <td>[1, 1, 3, 3, 1, 1, 3, 1, 1, 1, 1, 1, 1, 1, 1, ...</td>\n",
       "    </tr>\n",
       "    <tr>\n",
       "      <th>1</th>\n",
       "      <td>In a remarkable comparative analysis , Mandaea...</td>\n",
       "      <td>1</td>\n",
       "      <td>[In,  , a,  , remarkable,  , comparative,  , a...</td>\n",
       "      <td>0</td>\n",
       "      <td>0</td>\n",
       "      <td>19</td>\n",
       "      <td>[In, a, remarkable, comparative, analysis , Ma...</td>\n",
       "      <td>6</td>\n",
       "      <td>1</td>\n",
       "      <td>136</td>\n",
       "      <td>[1, 1, 3, 4, 3, None, 2, 2, 1, None, 2, 3, 1, ...</td>\n",
       "    </tr>\n",
       "    <tr>\n",
       "      <th>2</th>\n",
       "      <td>Before Persephone was released to Hermes , who...</td>\n",
       "      <td>1</td>\n",
       "      <td>[Before,  , Persephone,  , was,  , released,  ...</td>\n",
       "      <td>0</td>\n",
       "      <td>0</td>\n",
       "      <td>36</td>\n",
       "      <td>[Before, Persephone, was, released, to, Hermes...</td>\n",
       "      <td>10</td>\n",
       "      <td>1</td>\n",
       "      <td>213</td>\n",
       "      <td>[2, 2, 1, 2, 1, 2, None, 1, 1, 1, 1, 1, 2, 1, ...</td>\n",
       "    </tr>\n",
       "    <tr>\n",
       "      <th>3</th>\n",
       "      <td>Cogeneration plants are commonly found in dist...</td>\n",
       "      <td>1</td>\n",
       "      <td>[Cogeneration,  , plants,  , are,  , commonly,...</td>\n",
       "      <td>0</td>\n",
       "      <td>0</td>\n",
       "      <td>26</td>\n",
       "      <td>[Cogeneration, plants, are, commonly, found, i...</td>\n",
       "      <td>11</td>\n",
       "      <td>1</td>\n",
       "      <td>221</td>\n",
       "      <td>[5, 1, 1, 3, 1, 1, 2, 2, 2, 1, 1, None, 3, Non...</td>\n",
       "    </tr>\n",
       "    <tr>\n",
       "      <th>4</th>\n",
       "      <td>Geneva -LRB- , ; , ; , ; ; -RRB- is the second...</td>\n",
       "      <td>1</td>\n",
       "      <td>[Geneva,  , -LRB-,  , ,,  , ;,  , ,,  , ;,  , ...</td>\n",
       "      <td>0</td>\n",
       "      <td>0</td>\n",
       "      <td>18</td>\n",
       "      <td>[Geneva -LRB- , ; , ; , ; ; -RRB- is, the, sec...</td>\n",
       "      <td>8</td>\n",
       "      <td>1</td>\n",
       "      <td>184</td>\n",
       "      <td>[2, None, None, None, None, None, None, None, ...</td>\n",
       "    </tr>\n",
       "    <tr>\n",
       "      <th>...</th>\n",
       "      <td>...</td>\n",
       "      <td>...</td>\n",
       "      <td>...</td>\n",
       "      <td>...</td>\n",
       "      <td>...</td>\n",
       "      <td>...</td>\n",
       "      <td>...</td>\n",
       "      <td>...</td>\n",
       "      <td>...</td>\n",
       "      <td>...</td>\n",
       "      <td>...</td>\n",
       "    </tr>\n",
       "    <tr>\n",
       "      <th>416763</th>\n",
       "      <td>A Duke Nukem 3D version has been sold for Xbox...</td>\n",
       "      <td>0</td>\n",
       "      <td>[A,  , Duke,  , Nukem,  , 3D,  , version,  , h...</td>\n",
       "      <td>0</td>\n",
       "      <td>0</td>\n",
       "      <td>14</td>\n",
       "      <td>[A, Duke, Nukem, 3D, version, has, been, sold,...</td>\n",
       "      <td>2</td>\n",
       "      <td>1</td>\n",
       "      <td>66</td>\n",
       "      <td>[1, 1, 1, None, 2, 1, 1, 1, 1, 1, 1, 1, 3, Non...</td>\n",
       "    </tr>\n",
       "    <tr>\n",
       "      <th>416764</th>\n",
       "      <td>However , it is becoming replaced as a method ...</td>\n",
       "      <td>0</td>\n",
       "      <td>[However,  , ,,  , it,  , is,  , becoming,  , ...</td>\n",
       "      <td>0</td>\n",
       "      <td>0</td>\n",
       "      <td>17</td>\n",
       "      <td>[However , it, is, becoming, replaced, as, a, ...</td>\n",
       "      <td>6</td>\n",
       "      <td>1</td>\n",
       "      <td>95</td>\n",
       "      <td>[3, None, 1, 1, 3, 2, 1, 1, 1, 1, 4, 3, 1, 1, ...</td>\n",
       "    </tr>\n",
       "    <tr>\n",
       "      <th>416765</th>\n",
       "      <td>There are hand gestures in both Hindu and Budd...</td>\n",
       "      <td>0</td>\n",
       "      <td>[There,  , are,  , hand,  , gestures,  , in,  ...</td>\n",
       "      <td>0</td>\n",
       "      <td>0</td>\n",
       "      <td>10</td>\n",
       "      <td>[There, are, hand, gestures, in, both, Hindu, ...</td>\n",
       "      <td>3</td>\n",
       "      <td>1</td>\n",
       "      <td>55</td>\n",
       "      <td>[1, 1, 1, 2, 1, 1, 2, 1, 2, 3, None]</td>\n",
       "    </tr>\n",
       "    <tr>\n",
       "      <th>416766</th>\n",
       "      <td>If it is necessary to use colors , try to choo...</td>\n",
       "      <td>0</td>\n",
       "      <td>[If,  , it,  , is,  , necessary,  , to,  , use...</td>\n",
       "      <td>0</td>\n",
       "      <td>0</td>\n",
       "      <td>34</td>\n",
       "      <td>[If, it, is, necessary, to, use, colors , try,...</td>\n",
       "      <td>7</td>\n",
       "      <td>1</td>\n",
       "      <td>183</td>\n",
       "      <td>[1, 1, 1, 3, 1, 1, 2, None, 1, 1, 1, 2, 1, 1, ...</td>\n",
       "    </tr>\n",
       "    <tr>\n",
       "      <th>416767</th>\n",
       "      <td>Calgary Stampeders ,</td>\n",
       "      <td>0</td>\n",
       "      <td>[Calgary,  , Stampeders,  , ,]</td>\n",
       "      <td>0</td>\n",
       "      <td>0</td>\n",
       "      <td>2</td>\n",
       "      <td>[Calgary, Stampeders ,]</td>\n",
       "      <td>1</td>\n",
       "      <td>1</td>\n",
       "      <td>19</td>\n",
       "      <td>[2, 3, None]</td>\n",
       "    </tr>\n",
       "  </tbody>\n",
       "</table>\n",
       "<p>416768 rows × 11 columns</p>\n",
       "</div>"
      ],
      "text/plain": [
       "                                            original_text  label                                        parsed_list  All_Characters  Is_Int  \\\n",
       "0       There is manuscript evidence that Austen conti...      1  [There,  , is,  , manuscript,  , evidence,  , ...               0       0   \n",
       "1       In a remarkable comparative analysis , Mandaea...      1  [In,  , a,  , remarkable,  , comparative,  , a...               0       0   \n",
       "2       Before Persephone was released to Hermes , who...      1  [Before,  , Persephone,  , was,  , released,  ...               0       0   \n",
       "3       Cogeneration plants are commonly found in dist...      1  [Cogeneration,  , plants,  , are,  , commonly,...               0       0   \n",
       "4       Geneva -LRB- , ; , ; , ; ; -RRB- is the second...      1  [Geneva,  , -LRB-,  , ,,  , ;,  , ,,  , ;,  , ...               0       0   \n",
       "...                                                   ...    ...                                                ...             ...     ...   \n",
       "416763  A Duke Nukem 3D version has been sold for Xbox...      0  [A,  , Duke,  , Nukem,  , 3D,  , version,  , h...               0       0   \n",
       "416764  However , it is becoming replaced as a method ...      0  [However,  , ,,  , it,  , is,  , becoming,  , ...               0       0   \n",
       "416765  There are hand gestures in both Hindu and Budd...      0  [There,  , are,  , hand,  , gestures,  , in,  ...               0       0   \n",
       "416766  If it is necessary to use colors , try to choo...      0  [If,  , it,  , is,  , necessary,  , to,  , use...               0       0   \n",
       "416767                               Calgary Stampeders ,      0                     [Calgary,  , Stampeders,  , ,]               0       0   \n",
       "\n",
       "        total_words                                           og_split  long_words  total_sentences  total_characters  \\\n",
       "0                34  [There, is, manuscript, evidence, that, Austen...           7                1               182   \n",
       "1                19  [In, a, remarkable, comparative, analysis , Ma...           6                1               136   \n",
       "2                36  [Before, Persephone, was, released, to, Hermes...          10                1               213   \n",
       "3                26  [Cogeneration, plants, are, commonly, found, i...          11                1               221   \n",
       "4                18  [Geneva -LRB- , ; , ; , ; ; -RRB- is, the, sec...           8                1               184   \n",
       "...             ...                                                ...         ...              ...               ...   \n",
       "416763           14  [A, Duke, Nukem, 3D, version, has, been, sold,...           2                1                66   \n",
       "416764           17  [However , it, is, becoming, replaced, as, a, ...           6                1                95   \n",
       "416765           10  [There, are, hand, gestures, in, both, Hindu, ...           3                1                55   \n",
       "416766           34  [If, it, is, necessary, to, use, colors , try,...           7                1               183   \n",
       "416767            2                            [Calgary, Stampeders ,]           1                1                19   \n",
       "\n",
       "                                                 syl_list  \n",
       "0       [1, 1, 3, 3, 1, 1, 3, 1, 1, 1, 1, 1, 1, 1, 1, ...  \n",
       "1       [1, 1, 3, 4, 3, None, 2, 2, 1, None, 2, 3, 1, ...  \n",
       "2       [2, 2, 1, 2, 1, 2, None, 1, 1, 1, 1, 1, 2, 1, ...  \n",
       "3       [5, 1, 1, 3, 1, 1, 2, 2, 2, 1, 1, None, 3, Non...  \n",
       "4       [2, None, None, None, None, None, None, None, ...  \n",
       "...                                                   ...  \n",
       "416763  [1, 1, 1, None, 2, 1, 1, 1, 1, 1, 1, 1, 3, Non...  \n",
       "416764  [3, None, 1, 1, 3, 2, 1, 1, 1, 1, 4, 3, 1, 1, ...  \n",
       "416765               [1, 1, 1, 2, 1, 1, 2, 1, 2, 3, None]  \n",
       "416766  [1, 1, 1, 3, 1, 1, 2, None, 1, 1, 1, 2, 1, 1, ...  \n",
       "416767                                       [2, 3, None]  \n",
       "\n",
       "[416768 rows x 11 columns]"
      ]
     },
     "execution_count": 62,
     "metadata": {},
     "output_type": "execute_result"
    }
   ],
   "source": [
    "WikiLarge_Train_df"
   ]
  },
  {
   "cell_type": "code",
   "execution_count": 63,
   "metadata": {},
   "outputs": [
    {
     "data": {
      "text/html": [
       "<div>\n",
       "<style scoped>\n",
       "    .dataframe tbody tr th:only-of-type {\n",
       "        vertical-align: middle;\n",
       "    }\n",
       "\n",
       "    .dataframe tbody tr th {\n",
       "        vertical-align: top;\n",
       "    }\n",
       "\n",
       "    .dataframe thead th {\n",
       "        text-align: right;\n",
       "    }\n",
       "</style>\n",
       "<table border=\"1\" class=\"dataframe\">\n",
       "  <thead>\n",
       "    <tr style=\"text-align: right;\">\n",
       "      <th></th>\n",
       "      <th>original_text</th>\n",
       "      <th>label</th>\n",
       "      <th>parsed_list</th>\n",
       "      <th>All_Characters</th>\n",
       "      <th>Is_Int</th>\n",
       "      <th>total_words</th>\n",
       "      <th>og_split</th>\n",
       "      <th>long_words</th>\n",
       "      <th>total_sentences</th>\n",
       "      <th>total_characters</th>\n",
       "      <th>syl_list</th>\n",
       "      <th>total_syllables</th>\n",
       "      <th>total_polysyllables</th>\n",
       "    </tr>\n",
       "  </thead>\n",
       "  <tbody>\n",
       "    <tr>\n",
       "      <th>0</th>\n",
       "      <td>There is manuscript evidence that Austen conti...</td>\n",
       "      <td>1</td>\n",
       "      <td>[There,  , is,  , manuscript,  , evidence,  , ...</td>\n",
       "      <td>0</td>\n",
       "      <td>0</td>\n",
       "      <td>34</td>\n",
       "      <td>[There, is, manuscript, evidence, that, Austen...</td>\n",
       "      <td>7</td>\n",
       "      <td>1</td>\n",
       "      <td>182</td>\n",
       "      <td>[1, 1, 3, 3, 1, 1, 3, 1, 1, 1, 1, 1, 1, 1, 1, ...</td>\n",
       "      <td>48</td>\n",
       "      <td>5</td>\n",
       "    </tr>\n",
       "    <tr>\n",
       "      <th>1</th>\n",
       "      <td>In a remarkable comparative analysis , Mandaea...</td>\n",
       "      <td>1</td>\n",
       "      <td>[In,  , a,  , remarkable,  , comparative,  , a...</td>\n",
       "      <td>0</td>\n",
       "      <td>0</td>\n",
       "      <td>19</td>\n",
       "      <td>[In, a, remarkable, comparative, analysis , Ma...</td>\n",
       "      <td>6</td>\n",
       "      <td>1</td>\n",
       "      <td>136</td>\n",
       "      <td>[1, 1, 3, 4, 3, 2, 2, 1, 2, 3, 1, 1, 1, 1, 1, ...</td>\n",
       "      <td>37</td>\n",
       "      <td>5</td>\n",
       "    </tr>\n",
       "    <tr>\n",
       "      <th>2</th>\n",
       "      <td>Before Persephone was released to Hermes , who...</td>\n",
       "      <td>1</td>\n",
       "      <td>[Before,  , Persephone,  , was,  , released,  ...</td>\n",
       "      <td>0</td>\n",
       "      <td>0</td>\n",
       "      <td>36</td>\n",
       "      <td>[Before, Persephone, was, released, to, Hermes...</td>\n",
       "      <td>10</td>\n",
       "      <td>1</td>\n",
       "      <td>213</td>\n",
       "      <td>[2, 2, 1, 2, 1, 2, 1, 1, 1, 1, 1, 2, 1, 1, 1, ...</td>\n",
       "      <td>56</td>\n",
       "      <td>4</td>\n",
       "    </tr>\n",
       "    <tr>\n",
       "      <th>3</th>\n",
       "      <td>Cogeneration plants are commonly found in dist...</td>\n",
       "      <td>1</td>\n",
       "      <td>[Cogeneration,  , plants,  , are,  , commonly,...</td>\n",
       "      <td>0</td>\n",
       "      <td>0</td>\n",
       "      <td>26</td>\n",
       "      <td>[Cogeneration, plants, are, commonly, found, i...</td>\n",
       "      <td>11</td>\n",
       "      <td>1</td>\n",
       "      <td>221</td>\n",
       "      <td>[5, 1, 1, 3, 1, 1, 2, 2, 2, 1, 1, 3, 2, 1, 3, ...</td>\n",
       "      <td>57</td>\n",
       "      <td>6</td>\n",
       "    </tr>\n",
       "    <tr>\n",
       "      <th>4</th>\n",
       "      <td>Geneva -LRB- , ; , ; , ; ; -RRB- is the second...</td>\n",
       "      <td>1</td>\n",
       "      <td>[Geneva,  , -LRB-,  , ,,  , ;,  , ,,  , ;,  , ...</td>\n",
       "      <td>0</td>\n",
       "      <td>0</td>\n",
       "      <td>18</td>\n",
       "      <td>[Geneva -LRB- , ; , ; , ; ; -RRB- is, the, sec...</td>\n",
       "      <td>8</td>\n",
       "      <td>1</td>\n",
       "      <td>184</td>\n",
       "      <td>[2, 1, 1, 2, 1, 3, 1, 1, 2, 2, 1, 1, 1, 1, 1, ...</td>\n",
       "      <td>36</td>\n",
       "      <td>2</td>\n",
       "    </tr>\n",
       "    <tr>\n",
       "      <th>...</th>\n",
       "      <td>...</td>\n",
       "      <td>...</td>\n",
       "      <td>...</td>\n",
       "      <td>...</td>\n",
       "      <td>...</td>\n",
       "      <td>...</td>\n",
       "      <td>...</td>\n",
       "      <td>...</td>\n",
       "      <td>...</td>\n",
       "      <td>...</td>\n",
       "      <td>...</td>\n",
       "      <td>...</td>\n",
       "      <td>...</td>\n",
       "    </tr>\n",
       "    <tr>\n",
       "      <th>416763</th>\n",
       "      <td>A Duke Nukem 3D version has been sold for Xbox...</td>\n",
       "      <td>0</td>\n",
       "      <td>[A,  , Duke,  , Nukem,  , 3D,  , version,  , h...</td>\n",
       "      <td>0</td>\n",
       "      <td>0</td>\n",
       "      <td>14</td>\n",
       "      <td>[A, Duke, Nukem, 3D, version, has, been, sold,...</td>\n",
       "      <td>2</td>\n",
       "      <td>1</td>\n",
       "      <td>66</td>\n",
       "      <td>[1, 1, 1, 2, 1, 1, 1, 1, 1, 1, 1, 3]</td>\n",
       "      <td>15</td>\n",
       "      <td>1</td>\n",
       "    </tr>\n",
       "    <tr>\n",
       "      <th>416764</th>\n",
       "      <td>However , it is becoming replaced as a method ...</td>\n",
       "      <td>0</td>\n",
       "      <td>[However,  , ,,  , it,  , is,  , becoming,  , ...</td>\n",
       "      <td>0</td>\n",
       "      <td>0</td>\n",
       "      <td>17</td>\n",
       "      <td>[However , it, is, becoming, replaced, as, a, ...</td>\n",
       "      <td>6</td>\n",
       "      <td>1</td>\n",
       "      <td>95</td>\n",
       "      <td>[3, 1, 1, 3, 2, 1, 1, 1, 1, 4, 3, 1, 1, 2, 1, ...</td>\n",
       "      <td>31</td>\n",
       "      <td>5</td>\n",
       "    </tr>\n",
       "    <tr>\n",
       "      <th>416765</th>\n",
       "      <td>There are hand gestures in both Hindu and Budd...</td>\n",
       "      <td>0</td>\n",
       "      <td>[There,  , are,  , hand,  , gestures,  , in,  ...</td>\n",
       "      <td>0</td>\n",
       "      <td>0</td>\n",
       "      <td>10</td>\n",
       "      <td>[There, are, hand, gestures, in, both, Hindu, ...</td>\n",
       "      <td>3</td>\n",
       "      <td>1</td>\n",
       "      <td>55</td>\n",
       "      <td>[1, 1, 1, 2, 1, 1, 2, 1, 2, 3]</td>\n",
       "      <td>15</td>\n",
       "      <td>1</td>\n",
       "    </tr>\n",
       "    <tr>\n",
       "      <th>416766</th>\n",
       "      <td>If it is necessary to use colors , try to choo...</td>\n",
       "      <td>0</td>\n",
       "      <td>[If,  , it,  , is,  , necessary,  , to,  , use...</td>\n",
       "      <td>0</td>\n",
       "      <td>0</td>\n",
       "      <td>34</td>\n",
       "      <td>[If, it, is, necessary, to, use, colors , try,...</td>\n",
       "      <td>7</td>\n",
       "      <td>1</td>\n",
       "      <td>183</td>\n",
       "      <td>[1, 1, 1, 3, 1, 1, 2, 1, 1, 1, 2, 1, 1, 1, 1, ...</td>\n",
       "      <td>53</td>\n",
       "      <td>3</td>\n",
       "    </tr>\n",
       "    <tr>\n",
       "      <th>416767</th>\n",
       "      <td>Calgary Stampeders ,</td>\n",
       "      <td>0</td>\n",
       "      <td>[Calgary,  , Stampeders,  , ,]</td>\n",
       "      <td>0</td>\n",
       "      <td>0</td>\n",
       "      <td>2</td>\n",
       "      <td>[Calgary, Stampeders ,]</td>\n",
       "      <td>1</td>\n",
       "      <td>1</td>\n",
       "      <td>19</td>\n",
       "      <td>[2, 3]</td>\n",
       "      <td>5</td>\n",
       "      <td>1</td>\n",
       "    </tr>\n",
       "  </tbody>\n",
       "</table>\n",
       "<p>416768 rows × 13 columns</p>\n",
       "</div>"
      ],
      "text/plain": [
       "                                            original_text  label                                        parsed_list  All_Characters  Is_Int  \\\n",
       "0       There is manuscript evidence that Austen conti...      1  [There,  , is,  , manuscript,  , evidence,  , ...               0       0   \n",
       "1       In a remarkable comparative analysis , Mandaea...      1  [In,  , a,  , remarkable,  , comparative,  , a...               0       0   \n",
       "2       Before Persephone was released to Hermes , who...      1  [Before,  , Persephone,  , was,  , released,  ...               0       0   \n",
       "3       Cogeneration plants are commonly found in dist...      1  [Cogeneration,  , plants,  , are,  , commonly,...               0       0   \n",
       "4       Geneva -LRB- , ; , ; , ; ; -RRB- is the second...      1  [Geneva,  , -LRB-,  , ,,  , ;,  , ,,  , ;,  , ...               0       0   \n",
       "...                                                   ...    ...                                                ...             ...     ...   \n",
       "416763  A Duke Nukem 3D version has been sold for Xbox...      0  [A,  , Duke,  , Nukem,  , 3D,  , version,  , h...               0       0   \n",
       "416764  However , it is becoming replaced as a method ...      0  [However,  , ,,  , it,  , is,  , becoming,  , ...               0       0   \n",
       "416765  There are hand gestures in both Hindu and Budd...      0  [There,  , are,  , hand,  , gestures,  , in,  ...               0       0   \n",
       "416766  If it is necessary to use colors , try to choo...      0  [If,  , it,  , is,  , necessary,  , to,  , use...               0       0   \n",
       "416767                               Calgary Stampeders ,      0                     [Calgary,  , Stampeders,  , ,]               0       0   \n",
       "\n",
       "        total_words                                           og_split  long_words  total_sentences  total_characters  \\\n",
       "0                34  [There, is, manuscript, evidence, that, Austen...           7                1               182   \n",
       "1                19  [In, a, remarkable, comparative, analysis , Ma...           6                1               136   \n",
       "2                36  [Before, Persephone, was, released, to, Hermes...          10                1               213   \n",
       "3                26  [Cogeneration, plants, are, commonly, found, i...          11                1               221   \n",
       "4                18  [Geneva -LRB- , ; , ; , ; ; -RRB- is, the, sec...           8                1               184   \n",
       "...             ...                                                ...         ...              ...               ...   \n",
       "416763           14  [A, Duke, Nukem, 3D, version, has, been, sold,...           2                1                66   \n",
       "416764           17  [However , it, is, becoming, replaced, as, a, ...           6                1                95   \n",
       "416765           10  [There, are, hand, gestures, in, both, Hindu, ...           3                1                55   \n",
       "416766           34  [If, it, is, necessary, to, use, colors , try,...           7                1               183   \n",
       "416767            2                            [Calgary, Stampeders ,]           1                1                19   \n",
       "\n",
       "                                                 syl_list  total_syllables  total_polysyllables  \n",
       "0       [1, 1, 3, 3, 1, 1, 3, 1, 1, 1, 1, 1, 1, 1, 1, ...               48                    5  \n",
       "1       [1, 1, 3, 4, 3, 2, 2, 1, 2, 3, 1, 1, 1, 1, 1, ...               37                    5  \n",
       "2       [2, 2, 1, 2, 1, 2, 1, 1, 1, 1, 1, 2, 1, 1, 1, ...               56                    4  \n",
       "3       [5, 1, 1, 3, 1, 1, 2, 2, 2, 1, 1, 3, 2, 1, 3, ...               57                    6  \n",
       "4       [2, 1, 1, 2, 1, 3, 1, 1, 2, 2, 1, 1, 1, 1, 1, ...               36                    2  \n",
       "...                                                   ...              ...                  ...  \n",
       "416763               [1, 1, 1, 2, 1, 1, 1, 1, 1, 1, 1, 3]               15                    1  \n",
       "416764  [3, 1, 1, 3, 2, 1, 1, 1, 1, 4, 3, 1, 1, 2, 1, ...               31                    5  \n",
       "416765                     [1, 1, 1, 2, 1, 1, 2, 1, 2, 3]               15                    1  \n",
       "416766  [1, 1, 1, 3, 1, 1, 2, 1, 1, 1, 2, 1, 1, 1, 1, ...               53                    3  \n",
       "416767                                             [2, 3]                5                    1  \n",
       "\n",
       "[416768 rows x 13 columns]"
      ]
     },
     "execution_count": 63,
     "metadata": {},
     "output_type": "execute_result"
    }
   ],
   "source": [
    "WikiLarge_Train_df['syl_list'] = WikiLarge_Train_df['syl_list'].apply(lambda x: [y for y in x if y is not None])\n",
    "WikiLarge_Train_df['total_syllables'] = WikiLarge_Train_df['syl_list'].apply(lambda x: sum(x))\n",
    "WikiLarge_Train_df['total_polysyllables'] = WikiLarge_Train_df['syl_list'].apply(lambda x: sum([1 for y in x if y>2]))\n",
    "\n",
    "\n",
    "WikiLarge_Train_df"
   ]
  },
  {
   "cell_type": "code",
   "execution_count": 87,
   "metadata": {},
   "outputs": [],
   "source": [
    "WikiLarge_Train_df['total_unique_words'] = WikiLarge_Train_df['og_split'].apply(lambda x: len(set(x)))"
   ]
  },
  {
   "cell_type": "code",
   "execution_count": 91,
   "metadata": {},
   "outputs": [],
   "source": [
    "base_calculated = ['total_words', 'long_words', 'total_sentences', 'total_characters', 'syl_list', 'total_syllables', 'total_polysyllables', 'total_unique_words']"
   ]
  },
  {
   "cell_type": "code",
   "execution_count": 92,
   "metadata": {},
   "outputs": [],
   "source": [
    "WikiLarge_Train_df[base_calculated].to_csv('assets/base_calculations.csv')"
   ]
  },
  {
   "cell_type": "code",
   "execution_count": 72,
   "metadata": {},
   "outputs": [],
   "source": [
    "WikiLarge_Train_df['og_split'].to_csv('assets/bsb_token_split.csv')"
   ]
  },
  {
   "cell_type": "code",
   "execution_count": 75,
   "metadata": {},
   "outputs": [],
   "source": [
    "# !ls -lha assets"
   ]
  },
  {
   "cell_type": "code",
   "execution_count": 78,
   "metadata": {},
   "outputs": [
    {
     "data": {
      "text/plain": [
       "0         293.6\n",
       "1         247.6\n",
       "2         414.4\n",
       "3         450.4\n",
       "4         327.2\n",
       "          ...  \n",
       "416763     85.6\n",
       "416764    246.8\n",
       "416765    124.0\n",
       "416766    293.6\n",
       "416767     40.8\n",
       "Name: gfi, Length: 416768, dtype: float64"
      ]
     },
     "execution_count": 78,
     "metadata": {},
     "output_type": "execute_result"
    }
   ],
   "source": [
    "# esitmates the years of formal education a person needs to understand the tet on first reading.\n",
    "WikiLarge_Train_df['gfi'] = 0.4 * (WikiLarge_Train_df['total_words'] + 100 * WikiLarge_Train_df['long_words'])\n",
    "WikiLarge_Train_df['gfi']"
   ]
  },
  {
   "cell_type": "code",
   "execution_count": 80,
   "metadata": {},
   "outputs": [
    {
     "data": {
      "text/plain": [
       "0          52.889706\n",
       "1          22.802632\n",
       "2          38.695000\n",
       "3          -5.024231\n",
       "4          19.365000\n",
       "             ...    \n",
       "416763    101.982143\n",
       "416764     35.309412\n",
       "416765     69.785000\n",
       "416766     40.448529\n",
       "416767     -6.695000\n",
       "Name: fre, Length: 416768, dtype: float64"
      ]
     },
     "execution_count": 80,
     "metadata": {},
     "output_type": "execute_result"
    }
   ],
   "source": [
    "# FRE ( Flesch reading ease) assigns higher values to more readable texts.\n",
    "WikiLarge_Train_df['fre'] = 206.835 - 1.015*(WikiLarge_Train_df['total_words']) - 84.6 * (WikiLarge_Train_df['total_syllables']/WikiLarge_Train_df['total_words'])\n",
    "WikiLarge_Train_df['fre']"
   ]
  },
  {
   "cell_type": "code",
   "execution_count": 81,
   "metadata": {},
   "outputs": [
    {
     "data": {
      "text/plain": [
       "0         14.328824\n",
       "1         14.798947\n",
       "2         16.805556\n",
       "3         20.419231\n",
       "4         15.030000\n",
       "            ...    \n",
       "416763     2.512857\n",
       "416764    12.557647\n",
       "416765     6.010000\n",
       "416766    16.064118\n",
       "416767    14.690000\n",
       "Name: fkgl, Length: 416768, dtype: float64"
      ]
     },
     "execution_count": 81,
     "metadata": {},
     "output_type": "execute_result"
    }
   ],
   "source": [
    "# (FKGL) Flesch-Kincaid grade level is the number of years of education generally required to understand the text for which the formula was calculated\n",
    "WikiLarge_Train_df['fkgl'] = 0.39 * (WikiLarge_Train_df['total_words']) + 11.8 * (WikiLarge_Train_df['total_syllables']/WikiLarge_Train_df['total_words']) - 15.59\n",
    "WikiLarge_Train_df['fkgl']"
   ]
  },
  {
   "cell_type": "code",
   "execution_count": 84,
   "metadata": {},
   "outputs": [
    {
     "data": {
      "text/plain": [
       "0         20.782353\n",
       "1         21.783684\n",
       "2         24.437500\n",
       "3         31.605000\n",
       "4         35.716667\n",
       "            ...    \n",
       "416763     7.774286\n",
       "416764    13.390588\n",
       "416765     9.475000\n",
       "416766    20.920882\n",
       "416767    24.315000\n",
       "Name: ari, Length: 416768, dtype: float64"
      ]
     },
     "execution_count": 84,
     "metadata": {},
     "output_type": "execute_result"
    }
   ],
   "source": [
    "# ARI (Automated readability index) years of education required to understand the text\n",
    "WikiLarge_Train_df['ari'] = 4.71 * (WikiLarge_Train_df['total_characters'] / WikiLarge_Train_df['total_words']) + 0.5 * (WikiLarge_Train_df['total_words']) - 21.43\n",
    "WikiLarge_Train_df['ari']"
   ]
  },
  {
   "cell_type": "code",
   "execution_count": 85,
   "metadata": {},
   "outputs": [
    {
     "data": {
      "text/plain": [
       "0         15.903189\n",
       "1         15.903189\n",
       "2         14.554593\n",
       "3         17.122413\n",
       "4         11.208143\n",
       "            ...    \n",
       "416763     8.841846\n",
       "416764    15.903189\n",
       "416765     8.841846\n",
       "416766    13.023867\n",
       "416767     8.841846\n",
       "Name: smog, Length: 416768, dtype: float64"
      ]
     },
     "execution_count": 85,
     "metadata": {},
     "output_type": "execute_result"
    }
   ],
   "source": [
    "# SMOG (simple measurement of Gobbledygook) roughly corresponds to the number of years of education needed to understand the text\n",
    "WikiLarge_Train_df['smog'] = 1.0430 * np.sqrt(WikiLarge_Train_df['total_polysyllables'] * 30) + 3.1291\n",
    "WikiLarge_Train_df['smog']"
   ]
  },
  {
   "cell_type": "code",
   "execution_count": 93,
   "metadata": {},
   "outputs": [
    {
     "data": {
      "text/plain": [
       "0         0.823529\n",
       "1         1.000000\n",
       "2         0.833333\n",
       "3         0.923077\n",
       "4         0.833333\n",
       "            ...   \n",
       "416763    1.000000\n",
       "416764    1.000000\n",
       "416765    1.000000\n",
       "416766    0.852941\n",
       "416767    1.000000\n",
       "Name: ttr, Length: 416768, dtype: float64"
      ]
     },
     "execution_count": 93,
     "metadata": {},
     "output_type": "execute_result"
    }
   ],
   "source": [
    "# TTR (Type Token Ratio) (number of unique words / number of words)\n",
    "WikiLarge_Train_df['ttr'] = WikiLarge_Train_df['total_unique_words'] / WikiLarge_Train_df['total_words']\n",
    "WikiLarge_Train_df['ttr']\n",
    "\n",
    "# RTTR (root type token ratio)\n",
    "WikiLarge_Train_df['ttr'] = WikiLarge_Train_df['total_unique_words'] / np.sqrt(WikiLarge_Train_df['total_words'])\n",
    "\n",
    "# CTTR (corrected type token ratio)\n",
    "WikiLarge_Train_df['ttr'] = WikiLarge_Train_df['total_unique_words'] / np.sqrt(2 * WikiLarge_Train_df['total_words'])"
   ]
  },
  {
   "cell_type": "code",
   "execution_count": null,
   "metadata": {},
   "outputs": [],
   "source": [
    "# MSTTR is the average TTR for each non-overlapping segment of equal size\n",
    "segment_size = 5\n",
    "\n",
    "def msttr_helper(lst:list, segment_size:int=segment_size):\n",
    "    segment_size = np.min(segment_size, len(lst))\n",
    "    lst = [x.lower() for x in lst]\n",
    "    segments = [lst[i*segment_size: i*segment_size + segment_size] for i in range(int(np.ceil(len(lst)/segment_size)))]\n",
    "    segment_ttr_vals = [len(set(x)) / segment_size for x in segments if len(x) == segment_size]\n",
    "    \n",
    "    return np.sum(segment_ttr_vals)/len(segment_ttr_vals)\n",
    "\n",
    "    \n",
    "# WikiLarge_Train_df['msttr'] = WikiLarge_Train_df['og_split'].apply(msttr_helper)\n",
    "WikiLarge_Train_df['og_split'].apply(msttr_helper)"
   ]
  },
  {
   "cell_type": "code",
   "execution_count": null,
   "metadata": {},
   "outputs": [],
   "source": [
    "# MATTR is the average TTR for all possible overlapping segments of equal size. \n",
    "segment_size = 5\n",
    "\n",
    "def mattr_helper(lst:list, segment_size:int=segment_size):\n",
    "    segment_size = np.min(segment_size, len(lst))\n",
    "    lst = [x.lower() for x in lst]\n",
    "    segments = [lst[i: i + segment_size] for i in range(len(lst))]\n",
    "    segment_ttr_vals = [len(set(x)) / segment_size for x in segments if len(x) == segment_size]\n",
    "    \n",
    "    return np.sum(segment_ttr_vals)/len(segment_ttr_vals)\n",
    "\n",
    "# WikiLarge_Train_df['mattr'] = WikiLarge_Train_df['og_split'].apply(msttr_helper)\n",
    "WikiLarge_Train_df['og_split'].apply(mattr_helper)"
   ]
  },
  {
   "cell_type": "code",
   "execution_count": null,
   "metadata": {},
   "outputs": [],
   "source": []
  }
 ],
 "metadata": {
  "kernelspec": {
   "display_name": "Python 3 (ipykernel)",
   "language": "python",
   "name": "python3"
  },
  "language_info": {
   "codemirror_mode": {
    "name": "ipython",
    "version": 3
   },
   "file_extension": ".py",
   "mimetype": "text/x-python",
   "name": "python",
   "nbconvert_exporter": "python",
   "pygments_lexer": "ipython3",
   "version": "3.9.15"
  },
  "vscode": {
   "interpreter": {
    "hash": "aee8b7b246df8f9039afb4144a1f6fd8d2ca17a180786b69acc140d282b71a49"
   }
  }
 },
 "nbformat": 4,
 "nbformat_minor": 4
}
