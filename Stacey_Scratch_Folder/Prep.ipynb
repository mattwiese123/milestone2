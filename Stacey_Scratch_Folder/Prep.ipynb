{
 "cells": [
  {
   "cell_type": "code",
   "execution_count": null,
   "metadata": {},
   "outputs": [
    {
     "ename": "",
     "evalue": "",
     "output_type": "error",
     "traceback": [
      "\u001b[1;31mFailed to start the Kernel. \n",
      "\u001b[1;31mKernel Python 3.10.4 is not usable. Check the Jupyter output tab for more information. \n",
      "\u001b[1;31mView Jupyter <a href='command:jupyter.viewOutput'>log</a> for further details."
     ]
    }
   ],
   "source": [
    "# import pandas as pd\n",
    "# import numpy as np\n",
    "# import re\n",
    "#Importing everything from NLP Week 1 - following that as a guide for now\n",
    "import gzip\n",
    "import json\n",
    "import matplotlib.pyplot as plt\n",
    "import numpy as np\n",
    "import re\n",
    "import random\n",
    "import pandas as pd\n",
    "import seaborn as sns\n",
    "from collections import Counter, defaultdict\n",
    "from sklearn.dummy import DummyClassifier\n",
    "from sklearn.feature_extraction.text import TfidfVectorizer\n",
    "from sklearn.linear_model import LogisticRegression\n",
    "from sklearn.metrics import f1_score\n",
    "from sklearn.model_selection import train_test_split\n",
    "from tqdm import tqdm\n",
    "pd.options.display.max_rows = 100\n",
    "pd.options.display.width = 150\n",
    "RANDOM_SEED = 696\n"
   ]
  },
  {
   "cell_type": "code",
   "execution_count": 2,
   "metadata": {},
   "outputs": [
    {
     "data": {
      "text/plain": [
       "150"
      ]
     },
     "execution_count": 2,
     "metadata": {},
     "output_type": "execute_result"
    }
   ],
   "source": [
    "pd.get_option(\"display.width\")"
   ]
  },
  {
   "cell_type": "code",
   "execution_count": 3,
   "metadata": {},
   "outputs": [],
   "source": [
    "WikiLarge_Train_df = pd.read_csv(r'/Users/staceybruestle/Documents/Documents/Education/MADS/Coursework/aSIADS696- Milestone 2/Readability Project/Data/WikiLarge_Train.csv')#, \\"
   ]
  },
  {
   "cell_type": "code",
   "execution_count": 4,
   "metadata": {},
   "outputs": [],
   "source": [
    "# print(WikiLarge_Train_df.tail())\n",
    "# print(WikiLarge_Train_df['label'].value_counts())"
   ]
  },
  {
   "cell_type": "code",
   "execution_count": 5,
   "metadata": {},
   "outputs": [],
   "source": [
    "WikiLarge_Train_df['parsed_list'] = 0\n",
    "WikiLarge_Train_df['All_Characters'] = 0\n",
    "WikiLarge_Train_df['Is_Int'] = 0\n",
    "for i, row in WikiLarge_Train_df.iterrows():\n",
    "        temp = row['original_text']\n",
    "        WikiLarge_Train_df['parsed_list'].at[i] = re.split(r'(\\s)', temp)\n",
    "        if temp.isalpha():\n",
    "                WikiLarge_Train_df['All_Characters'].at[i] = 1\n",
    "        try:\n",
    "                int(temp)\n",
    "                WikiLarge_Train_df['Is_Int'].at[i] = 1\n",
    "        except:\n",
    "                pass\n",
    "\n",
    "        #WikiLarge_Train_df['parsed_list'].at[i] = re.split(r'(-|,|\\s)\\s*', temp)\n",
    "        # Do we need to be greedy?\n",
    "\n",
    "# Are commas always split by spaces?"
   ]
  },
  {
   "cell_type": "code",
   "execution_count": 6,
   "metadata": {},
   "outputs": [
    {
     "name": "stdout",
     "output_type": "stream",
     "text": [
      "                                       original_text  label                                        parsed_list  All_Characters  Is_Int\n",
      "0  There is manuscript evidence that Austen conti...      1  [There,  , is,  , manuscript,  , evidence,  , ...               0       0\n",
      "1  In a remarkable comparative analysis , Mandaea...      1  [In,  , a,  , remarkable,  , comparative,  , a...               0       0\n",
      "2  Before Persephone was released to Hermes , who...      1  [Before,  , Persephone,  , was,  , released,  ...               0       0\n",
      "3  Cogeneration plants are commonly found in dist...      1  [Cogeneration,  , plants,  , are,  , commonly,...               0       0\n",
      "4  Geneva -LRB- , ; , ; , ; ; -RRB- is the second...      1  [Geneva,  , -LRB-,  , ,,  , ;,  , ,,  , ;,  , ...               0       0\n"
     ]
    }
   ],
   "source": [
    "print(WikiLarge_Train_df.head(5))"
   ]
  },
  {
   "cell_type": "code",
   "execution_count": 7,
   "metadata": {},
   "outputs": [
    {
     "data": {
      "text/plain": [
       "0    407992\n",
       "1      8776\n",
       "Name: All_Characters, dtype: int64"
      ]
     },
     "execution_count": 7,
     "metadata": {},
     "output_type": "execute_result"
    }
   ],
   "source": [
    "WikiLarge_Train_df['All_Characters'].value_counts()"
   ]
  },
  {
   "cell_type": "code",
   "execution_count": 8,
   "metadata": {},
   "outputs": [
    {
     "name": "stdout",
     "output_type": "stream",
     "text": [
      "0    416718\n",
      "1        50\n",
      "Name: Is_Int, dtype: int64\n",
      "0    40\n",
      "1    10\n",
      "Name: label, dtype: int64\n"
     ]
    }
   ],
   "source": [
    "#Not many -so I'm not going to worry about these\n",
    "print(WikiLarge_Train_df['Is_Int'].value_counts())\n",
    "print(WikiLarge_Train_df[WikiLarge_Train_df['Is_Int'] ==1 ]['label'].value_counts())\n",
    "# The following shows there's no rhyme or reason to the way they're flagged\n",
    "# WikiLarge_Train_df[WikiLarge_Train_df['Is_Int'] ==1 ].head(50)"
   ]
  },
  {
   "cell_type": "markdown",
   "metadata": {},
   "source": [
    "Okay, lets divide the set into train dev and test just for fun and see about getting started"
   ]
  },
  {
   "cell_type": "code",
   "execution_count": 9,
   "metadata": {},
   "outputs": [],
   "source": [
    "train_df, dev_df, test_df = np.split(WikiLarge_Train_df.sample(frac=1, random_state= RANDOM_SEED), \n",
    "                       [int(.8*len(WikiLarge_Train_df)), int(.9*len(WikiLarge_Train_df))], axis = 0)"
   ]
  },
  {
   "cell_type": "code",
   "execution_count": 10,
   "metadata": {},
   "outputs": [
    {
     "name": "stdout",
     "output_type": "stream",
     "text": [
      "(333414, 5)\n",
      "(41677, 5)\n",
      "(41677, 5)\n"
     ]
    }
   ],
   "source": [
    "print(train_df.shape)\n",
    "print(dev_df.shape)\n",
    "print(test_df.shape)"
   ]
  },
  {
   "attachments": {},
   "cell_type": "markdown",
   "metadata": {},
   "source": [
    "FROM NLP Week 1:\n",
    "\n",
    "What tokens should count as a \"word\" and how do we find them? For this exercise, we'll try extract three kinds of tokens using different methods to see what happens\n",
    "\n",
    "1. ws_tokens: dict count of tokens separated by whitespace\n",
    "2. alpha_ws_tokens: dict count of tokens separated by whitespace and are alpha numeric\n",
    "3. alpha_re_tokens: dict count of tokens separated by word boundaries that only consist of alphanumeric characters\n",
    "\n",
    "As quick example of how these are different, let's say we have the sentence \"My computer says 'I don't know...' but after thinking about it, I think it does.\"\n",
    "\n",
    "* The first case should return ['My', 'computer', 'says', \"'I\", \"don't\", \"know...'\", 'but', 'after', 'thinking', 'about', 'it,', 'I', 'think', 'it', 'does.'], which we can see contains a bunch of tokens that have punctuation with them.\n",
    "\n",
    "* The second case should return ['My', 'computer', 'says', 'but', 'after', 'thinking', 'about', 'I', 'think', 'it'] which is filtering out a lot more tokens. We see that any token with any punctuation gets removed. This is probably too much but the tokens do look cleaner\n",
    "\n",
    "* The third case should return ['My', 'computer', 'says', 'I', 'don', 't', 'know', 'but', 'after', 'thinking', 'about', 'it', 'I', 'think', 'it', 'does'], which gives us all the tokens. Here we see that it's also split \"don't\" into two tokens too! We could modify our regex some to allow intra-token punctuation to avoid this but for now we'll keep it a it simple."
   ]
  },
  {
   "cell_type": "code",
   "execution_count": 11,
   "metadata": {},
   "outputs": [
    {
     "name": "stderr",
     "output_type": "stream",
     "text": [
      "100%|██████████| 333414/333414 [00:08<00:00, 38699.08it/s]\n"
     ]
    }
   ],
   "source": [
    "ws_tokens = Counter()\n",
    "alpha_ws_tokens = Counter()\n",
    "alpha_re_tokens = Counter()\n",
    "count = 0\n",
    "\n",
    "for sent in tqdm(train_df.original_text):\n",
    "#if count > 1:\n",
    "    alphanumeric_list = []\n",
    "    alpha_re_list = []\n",
    "    sentlist = sent.split()\n",
    "\n",
    "    ws_tokens.update(sentlist)\n",
    "\n",
    "    for element in sentlist:\n",
    "        #alphanumeric_regex = re.compile(r'[a-zA-Z0-9]+')\n",
    "        alphanumeric_regex = re.compile(r'\\w+')\n",
    "        if re.fullmatch(alphanumeric_regex, element) != None:\n",
    "            alphanumeric_list.append(element)\n",
    "            #print(\"element:\", element, \"\\nalpha_ws_list:\",alpha_ws_list)\n",
    "\n",
    "    alpha_re_list = re.findall(alphanumeric_regex, sent)\n",
    "    alpha_ws_tokens.update(alphanumeric_list)\n",
    "    alpha_re_tokens.update(alpha_re_list)"
   ]
  },
  {
   "cell_type": "code",
   "execution_count": 12,
   "metadata": {},
   "outputs": [
    {
     "name": "stdout",
     "output_type": "stream",
     "text": [
      "180497\n",
      "150320\n",
      "155812\n"
     ]
    }
   ],
   "source": [
    "print(len(ws_tokens))\n",
    "print(len(alpha_ws_tokens))\n",
    "print(len(alpha_re_tokens))"
   ]
  },
  {
   "cell_type": "code",
   "execution_count": 13,
   "metadata": {},
   "outputs": [
    {
     "data": {
      "text/plain": [
       "[('the', 388051),\n",
       " ('of', 231298),\n",
       " ('in', 184434),\n",
       " ('and', 168008),\n",
       " ('a', 146692),\n",
       " ('is', 130853),\n",
       " ('to', 99037),\n",
       " ('RRB', 87115),\n",
       " ('LRB', 86878),\n",
       " ('The', 69017),\n",
       " ('was', 65924),\n",
       " ('as', 47474),\n",
       " ('for', 42317),\n",
       " ('by', 42126),\n",
       " ('on', 40038),\n",
       " ('with', 33040),\n",
       " ('s', 30582),\n",
       " ('that', 29589),\n",
       " ('from', 29501),\n",
       " ('are', 27668),\n",
       " ('an', 27376),\n",
       " ('or', 26066),\n",
       " ('It', 23917),\n",
       " ('at', 22762),\n",
       " ('his', 19793),\n",
       " ('which', 18768),\n",
       " ('In', 18721),\n",
       " ('it', 17895),\n",
       " ('also', 16284),\n",
       " ('has', 15611),\n",
       " ('be', 15144),\n",
       " ('he', 14975),\n",
       " ('born', 14891),\n",
       " ('first', 14506),\n",
       " ('were', 13468),\n",
       " ('France', 13454),\n",
       " ('He', 13349),\n",
       " ('one', 12754),\n",
       " ('known', 11524),\n",
       " ('who', 11262),\n",
       " ('United', 11159),\n",
       " ('not', 10888),\n",
       " ('its', 10738),\n",
       " ('department', 10574),\n",
       " ('have', 10282),\n",
       " ('city', 10253),\n",
       " ('A', 10196),\n",
       " ('de', 10067),\n",
       " ('1', 9896),\n",
       " ('commune', 9647)]"
      ]
     },
     "execution_count": 13,
     "metadata": {},
     "output_type": "execute_result"
    }
   ],
   "source": [
    "top_50 = alpha_re_tokens.most_common(50)\n",
    "#hidden tests are within this cell\n",
    "top_50"
   ]
  },
  {
   "cell_type": "code",
   "execution_count": 14,
   "metadata": {},
   "outputs": [
    {
     "name": "stdout",
     "output_type": "stream",
     "text": [
      "155812 0 155811\n",
      "155812 0.05914372062349407 1.5241223608106686e-07\n"
     ]
    },
    {
     "data": {
      "image/png": "[encoded data removed]",
      "text/plain": [
       "<Figure size 640x480 with 1 Axes>"
      ]
     },
     "metadata": {},
     "output_type": "display_data"
    }
   ],
   "source": [
    "#Plot the word distribution\n",
    "dict_pairs = dict(alpha_re_tokens)\n",
    "total_counts = sum(dict_pairs.values())\n",
    "\n",
    "#sorted_dict = {}\n",
    "sorted_keys = sorted(dict_pairs, key=dict_pairs.get, reverse=True) \n",
    "x = [] #rank\n",
    "y = [] #probability\n",
    "count = 0\n",
    "for w in sorted_keys:\n",
    "    #print(w, dict_pairs[w], sorted_dict)\n",
    "    x.append(count)\n",
    "    y.append(dict_pairs[w] / total_counts)\n",
    "    count += 1\n",
    "\n",
    "print(len(x), x[0], x[-1])\n",
    "print(len(y), y[0], y[-1])\n",
    "\n",
    "ax = plt.plot(x, y, '.')\n",
    "plt.yscale('log')\n",
    "plt.xscale('log')"
   ]
  },
  {
   "attachments": {},
   "cell_type": "markdown",
   "metadata": {},
   "source": [
    "Convert text to features"
   ]
  },
  {
   "cell_type": "code",
   "execution_count": 15,
   "metadata": {},
   "outputs": [
    {
     "name": "stdout",
     "output_type": "stream",
     "text": [
      "(333414, 1099)\n"
     ]
    }
   ],
   "source": [
    "vectorizer = TfidfVectorizer(min_df=500, stop_words= 'english')\n",
    "X_train = vectorizer.fit_transform(train_df.original_text)\n",
    "print(X_train.shape)"
   ]
  },
  {
   "cell_type": "code",
   "execution_count": null,
   "metadata": {},
   "outputs": [],
   "source": []
  },
  {
   "cell_type": "code",
   "execution_count": 16,
   "metadata": {},
   "outputs": [],
   "source": [
    "#Make list of labels\n",
    "y_train = list(train_df.label)"
   ]
  },
  {
   "attachments": {},
   "cell_type": "markdown",
   "metadata": {},
   "source": [
    "Fit the classifier - using all the data but could narrow this down to save time. Lets just see if it takes a long time"
   ]
  },
  {
   "cell_type": "code",
   "execution_count": 17,
   "metadata": {},
   "outputs": [
    {
     "data": {
      "text/html": [
       "<style>#sk-container-id-1 {color: black;background-color: white;}#sk-container-id-1 pre{padding: 0;}#sk-container-id-1 div.sk-toggleable {background-color: white;}#sk-container-id-1 label.sk-toggleable__label {cursor: pointer;display: block;width: 100%;margin-bottom: 0;padding: 0.3em;box-sizing: border-box;text-align: center;}#sk-container-id-1 label.sk-toggleable__label-arrow:before {content: \"▸\";float: left;margin-right: 0.25em;color: #696969;}#sk-container-id-1 label.sk-toggleable__label-arrow:hover:before {color: black;}#sk-container-id-1 div.sk-estimator:hover label.sk-toggleable__label-arrow:before {color: black;}#sk-container-id-1 div.sk-toggleable__content {max-height: 0;max-width: 0;overflow: hidden;text-align: left;background-color: #f0f8ff;}#sk-container-id-1 div.sk-toggleable__content pre {margin: 0.2em;color: black;border-radius: 0.25em;background-color: #f0f8ff;}#sk-container-id-1 input.sk-toggleable__control:checked~div.sk-toggleable__content {max-height: 200px;max-width: 100%;overflow: auto;}#sk-container-id-1 input.sk-toggleable__control:checked~label.sk-toggleable__label-arrow:before {content: \"▾\";}#sk-container-id-1 div.sk-estimator input.sk-toggleable__control:checked~label.sk-toggleable__label {background-color: #d4ebff;}#sk-container-id-1 div.sk-label input.sk-toggleable__control:checked~label.sk-toggleable__label {background-color: #d4ebff;}#sk-container-id-1 input.sk-hidden--visually {border: 0;clip: rect(1px 1px 1px 1px);clip: rect(1px, 1px, 1px, 1px);height: 1px;margin: -1px;overflow: hidden;padding: 0;position: absolute;width: 1px;}#sk-container-id-1 div.sk-estimator {font-family: monospace;background-color: #f0f8ff;border: 1px dotted black;border-radius: 0.25em;box-sizing: border-box;margin-bottom: 0.5em;}#sk-container-id-1 div.sk-estimator:hover {background-color: #d4ebff;}#sk-container-id-1 div.sk-parallel-item::after {content: \"\";width: 100%;border-bottom: 1px solid gray;flex-grow: 1;}#sk-container-id-1 div.sk-label:hover label.sk-toggleable__label {background-color: #d4ebff;}#sk-container-id-1 div.sk-serial::before {content: \"\";position: absolute;border-left: 1px solid gray;box-sizing: border-box;top: 0;bottom: 0;left: 50%;z-index: 0;}#sk-container-id-1 div.sk-serial {display: flex;flex-direction: column;align-items: center;background-color: white;padding-right: 0.2em;padding-left: 0.2em;position: relative;}#sk-container-id-1 div.sk-item {position: relative;z-index: 1;}#sk-container-id-1 div.sk-parallel {display: flex;align-items: stretch;justify-content: center;background-color: white;position: relative;}#sk-container-id-1 div.sk-item::before, #sk-container-id-1 div.sk-parallel-item::before {content: \"\";position: absolute;border-left: 1px solid gray;box-sizing: border-box;top: 0;bottom: 0;left: 50%;z-index: -1;}#sk-container-id-1 div.sk-parallel-item {display: flex;flex-direction: column;z-index: 1;position: relative;background-color: white;}#sk-container-id-1 div.sk-parallel-item:first-child::after {align-self: flex-end;width: 50%;}#sk-container-id-1 div.sk-parallel-item:last-child::after {align-self: flex-start;width: 50%;}#sk-container-id-1 div.sk-parallel-item:only-child::after {width: 0;}#sk-container-id-1 div.sk-dashed-wrapped {border: 1px dashed gray;margin: 0 0.4em 0.5em 0.4em;box-sizing: border-box;padding-bottom: 0.4em;background-color: white;}#sk-container-id-1 div.sk-label label {font-family: monospace;font-weight: bold;display: inline-block;line-height: 1.2em;}#sk-container-id-1 div.sk-label-container {text-align: center;}#sk-container-id-1 div.sk-container {/* jupyter's `normalize.less` sets `[hidden] { display: none; }` but bootstrap.min.css set `[hidden] { display: none !important; }` so we also need the `!important` here to be able to override the default hidden behavior on the sphinx rendered scikit-learn.org. See: https://github.com/scikit-learn/scikit-learn/issues/21755 */display: inline-block !important;position: relative;}#sk-container-id-1 div.sk-text-repr-fallback {display: none;}</style><div id=\"sk-container-id-1\" class=\"sk-top-container\"><div class=\"sk-text-repr-fallback\"><pre>LogisticRegression(max_iter=500, multi_class=&#x27;ovr&#x27;, random_state=696,\n",
       "                   solver=&#x27;newton-cholesky&#x27;)</pre><b>In a Jupyter environment, please rerun this cell to show the HTML representation or trust the notebook. <br />On GitHub, the HTML representation is unable to render, please try loading this page with nbviewer.org.</b></div><div class=\"sk-container\" hidden><div class=\"sk-item\"><div class=\"sk-estimator sk-toggleable\"><input class=\"sk-toggleable__control sk-hidden--visually\" id=\"sk-estimator-id-1\" type=\"checkbox\" checked><label for=\"sk-estimator-id-1\" class=\"sk-toggleable__label sk-toggleable__label-arrow\">LogisticRegression</label><div class=\"sk-toggleable__content\"><pre>LogisticRegression(max_iter=500, multi_class=&#x27;ovr&#x27;, random_state=696,\n",
       "                   solver=&#x27;newton-cholesky&#x27;)</pre></div></div></div></div></div>"
      ],
      "text/plain": [
       "LogisticRegression(max_iter=500, multi_class='ovr', random_state=696,\n",
       "                   solver='newton-cholesky')"
      ]
     },
     "execution_count": 17,
     "metadata": {},
     "output_type": "execute_result"
    }
   ],
   "source": [
    "clf = LogisticRegression(random_state=RANDOM_SEED, max_iter=500, multi_class='ovr', solver= 'newton-cholesky')\n",
    "#clf.fit(X_train[0:10000,:], y_train[0:10000])\n",
    "clf.fit(X_train, y_train)"
   ]
  },
  {
   "attachments": {},
   "cell_type": "markdown",
   "metadata": {},
   "source": [
    "Generate the dev data"
   ]
  },
  {
   "cell_type": "code",
   "execution_count": 18,
   "metadata": {},
   "outputs": [
    {
     "data": {
      "text/plain": [
       "scipy.sparse._csr.csr_matrix"
      ]
     },
     "execution_count": 18,
     "metadata": {},
     "output_type": "execute_result"
    }
   ],
   "source": [
    "X_dev = vectorizer.transform(dev_df.original_text)\n",
    "y_dev = list(dev_df.label)\n",
    "type(X_dev)"
   ]
  },
  {
   "attachments": {},
   "cell_type": "markdown",
   "metadata": {},
   "source": [
    "Create the Dummy Classifiers"
   ]
  },
  {
   "cell_type": "code",
   "execution_count": 19,
   "metadata": {},
   "outputs": [
    {
     "data": {
      "text/html": [
       "<style>#sk-container-id-2 {color: black;background-color: white;}#sk-container-id-2 pre{padding: 0;}#sk-container-id-2 div.sk-toggleable {background-color: white;}#sk-container-id-2 label.sk-toggleable__label {cursor: pointer;display: block;width: 100%;margin-bottom: 0;padding: 0.3em;box-sizing: border-box;text-align: center;}#sk-container-id-2 label.sk-toggleable__label-arrow:before {content: \"▸\";float: left;margin-right: 0.25em;color: #696969;}#sk-container-id-2 label.sk-toggleable__label-arrow:hover:before {color: black;}#sk-container-id-2 div.sk-estimator:hover label.sk-toggleable__label-arrow:before {color: black;}#sk-container-id-2 div.sk-toggleable__content {max-height: 0;max-width: 0;overflow: hidden;text-align: left;background-color: #f0f8ff;}#sk-container-id-2 div.sk-toggleable__content pre {margin: 0.2em;color: black;border-radius: 0.25em;background-color: #f0f8ff;}#sk-container-id-2 input.sk-toggleable__control:checked~div.sk-toggleable__content {max-height: 200px;max-width: 100%;overflow: auto;}#sk-container-id-2 input.sk-toggleable__control:checked~label.sk-toggleable__label-arrow:before {content: \"▾\";}#sk-container-id-2 div.sk-estimator input.sk-toggleable__control:checked~label.sk-toggleable__label {background-color: #d4ebff;}#sk-container-id-2 div.sk-label input.sk-toggleable__control:checked~label.sk-toggleable__label {background-color: #d4ebff;}#sk-container-id-2 input.sk-hidden--visually {border: 0;clip: rect(1px 1px 1px 1px);clip: rect(1px, 1px, 1px, 1px);height: 1px;margin: -1px;overflow: hidden;padding: 0;position: absolute;width: 1px;}#sk-container-id-2 div.sk-estimator {font-family: monospace;background-color: #f0f8ff;border: 1px dotted black;border-radius: 0.25em;box-sizing: border-box;margin-bottom: 0.5em;}#sk-container-id-2 div.sk-estimator:hover {background-color: #d4ebff;}#sk-container-id-2 div.sk-parallel-item::after {content: \"\";width: 100%;border-bottom: 1px solid gray;flex-grow: 1;}#sk-container-id-2 div.sk-label:hover label.sk-toggleable__label {background-color: #d4ebff;}#sk-container-id-2 div.sk-serial::before {content: \"\";position: absolute;border-left: 1px solid gray;box-sizing: border-box;top: 0;bottom: 0;left: 50%;z-index: 0;}#sk-container-id-2 div.sk-serial {display: flex;flex-direction: column;align-items: center;background-color: white;padding-right: 0.2em;padding-left: 0.2em;position: relative;}#sk-container-id-2 div.sk-item {position: relative;z-index: 1;}#sk-container-id-2 div.sk-parallel {display: flex;align-items: stretch;justify-content: center;background-color: white;position: relative;}#sk-container-id-2 div.sk-item::before, #sk-container-id-2 div.sk-parallel-item::before {content: \"\";position: absolute;border-left: 1px solid gray;box-sizing: border-box;top: 0;bottom: 0;left: 50%;z-index: -1;}#sk-container-id-2 div.sk-parallel-item {display: flex;flex-direction: column;z-index: 1;position: relative;background-color: white;}#sk-container-id-2 div.sk-parallel-item:first-child::after {align-self: flex-end;width: 50%;}#sk-container-id-2 div.sk-parallel-item:last-child::after {align-self: flex-start;width: 50%;}#sk-container-id-2 div.sk-parallel-item:only-child::after {width: 0;}#sk-container-id-2 div.sk-dashed-wrapped {border: 1px dashed gray;margin: 0 0.4em 0.5em 0.4em;box-sizing: border-box;padding-bottom: 0.4em;background-color: white;}#sk-container-id-2 div.sk-label label {font-family: monospace;font-weight: bold;display: inline-block;line-height: 1.2em;}#sk-container-id-2 div.sk-label-container {text-align: center;}#sk-container-id-2 div.sk-container {/* jupyter's `normalize.less` sets `[hidden] { display: none; }` but bootstrap.min.css set `[hidden] { display: none !important; }` so we also need the `!important` here to be able to override the default hidden behavior on the sphinx rendered scikit-learn.org. See: https://github.com/scikit-learn/scikit-learn/issues/21755 */display: inline-block !important;position: relative;}#sk-container-id-2 div.sk-text-repr-fallback {display: none;}</style><div id=\"sk-container-id-2\" class=\"sk-top-container\"><div class=\"sk-text-repr-fallback\"><pre>DummyClassifier(random_state=696, strategy=&#x27;most_frequent&#x27;)</pre><b>In a Jupyter environment, please rerun this cell to show the HTML representation or trust the notebook. <br />On GitHub, the HTML representation is unable to render, please try loading this page with nbviewer.org.</b></div><div class=\"sk-container\" hidden><div class=\"sk-item\"><div class=\"sk-estimator sk-toggleable\"><input class=\"sk-toggleable__control sk-hidden--visually\" id=\"sk-estimator-id-2\" type=\"checkbox\" checked><label for=\"sk-estimator-id-2\" class=\"sk-toggleable__label sk-toggleable__label-arrow\">DummyClassifier</label><div class=\"sk-toggleable__content\"><pre>DummyClassifier(random_state=696, strategy=&#x27;most_frequent&#x27;)</pre></div></div></div></div></div>"
      ],
      "text/plain": [
       "DummyClassifier(random_state=696, strategy='most_frequent')"
      ]
     },
     "execution_count": 19,
     "metadata": {},
     "output_type": "execute_result"
    }
   ],
   "source": [
    "uniform_dummy = DummyClassifier(strategy='uniform', random_state = RANDOM_SEED, constant=None)\n",
    "most_freq_dummy = DummyClassifier(strategy='most_frequent', random_state = RANDOM_SEED, constant=None)\n",
    "\n",
    "uniform_dummy.fit(X_train, y_train)\n",
    "most_freq_dummy.fit(X_train, y_train)"
   ]
  },
  {
   "attachments": {},
   "cell_type": "markdown",
   "metadata": {},
   "source": [
    "Generate the predictions"
   ]
  },
  {
   "cell_type": "code",
   "execution_count": 20,
   "metadata": {},
   "outputs": [],
   "source": [
    "lr_tiny_dev_preds = clf.predict(X_dev)\n",
    "rand_dev_preds = uniform_dummy.predict(X_dev)\n",
    "mf_dev_preds = most_freq_dummy.predict(X_dev)"
   ]
  },
  {
   "attachments": {},
   "cell_type": "markdown",
   "metadata": {},
   "source": [
    "Score the predictions"
   ]
  },
  {
   "cell_type": "code",
   "execution_count": 21,
   "metadata": {},
   "outputs": [
    {
     "name": "stdout",
     "output_type": "stream",
     "text": [
      "0.6421682653633889\n",
      "0.49840355363816646\n",
      "0.333061289806369\n"
     ]
    }
   ],
   "source": [
    "lr_f1 = f1_score(y_dev, lr_tiny_dev_preds, average='macro')\n",
    "rand_f1 = f1_score(y_dev, rand_dev_preds, average='macro')\n",
    "mf_f1 = f1_score(y_dev, mf_dev_preds, average='macro')\n",
    "print(lr_f1)\n",
    "print(rand_f1)\n",
    "print(mf_f1)"
   ]
  },
  {
   "attachments": {},
   "cell_type": "markdown",
   "metadata": {},
   "source": [
    "Create a function for the steps so we can run it for various amounts of data to see the difference"
   ]
  },
  {
   "cell_type": "code",
   "execution_count": 22,
   "metadata": {},
   "outputs": [
    {
     "name": "stderr",
     "output_type": "stream",
     "text": [
      "100%|██████████| 5/5 [01:32<00:00, 18.46s/it]\n"
     ]
    }
   ],
   "source": [
    "def train_and_score(train_df, dev_df):\n",
    "    # Fit a new TfidfVectorizer\n",
    "    #vectorizer = TfidfVectorizer(min_df=25, stop_words= 'english')\n",
    "    vectorizer = TfidfVectorizer(min_df=25, max_df= .9)\n",
    "    X_train = vectorizer.fit_transform(train_df.original_text)\n",
    "\n",
    "    #Get the labels\n",
    "    y_train = list(train_df.label)\n",
    "\n",
    "    #Fit the data to a Logistic Regression Classifier (in this example a subset of 10k)\n",
    "    #clf = LogisticRegression(random_state=RANDOM_SEED, multi_class='auto', solver= 'lbfgs')\n",
    "    clf = LogisticRegression(random_state=RANDOM_SEED, max_iter=500, C=.1, multi_class='ovr', solver= 'newton-cholesky')\n",
    "    clf.fit(X_train, y_train)\n",
    "\n",
    "    # Generate the dev data\n",
    "    X_dev = vectorizer.transform(dev_df.original_text)\n",
    "    y_dev = list(dev_df.label)\n",
    "\n",
    "    # Generate the predictions\n",
    "    lr_tiny_dev_preds = clf.predict(X_dev)\n",
    "\n",
    "    # Score the predictions\n",
    "    f1 = f1_score(y_dev, lr_tiny_dev_preds, average='macro')\n",
    "\n",
    "    # the function returns the macro-averaged F1 score on the dev data\n",
    "    return f1\n",
    "\n",
    "def change_in_performance(training_sizes, train_df, dev_df):\n",
    "    random.seed(RANDOM_SEED)\n",
    "    f1_scores = []\n",
    "    for training_size in tqdm(training_sizes):\n",
    "        f1_scores.append(train_and_score(train_df.head(training_size), dev_df))\n",
    "    return(f1_scores)\n",
    "\n",
    "training_sizes = [1000, 10000, 50000, 100000, 333414]\n",
    "performace_f1_scores = change_in_performance(training_sizes, train_df, dev_df)"
   ]
  },
  {
   "attachments": {},
   "cell_type": "markdown",
   "metadata": {},
   "source": [
    "Used these tips from NLP Week 1 to fine tune:\n",
    "\n",
    "Overall lots of room for improvement. We could certainly try fine-tuning some of the hyperparameters though! Some useful ideas to try by altering the TF-IDF vectorizer or classifier:\n",
    "* use lower `min_df` to increase the number of features\n",
    "* don't use stopword removal\n",
    "* tune the `C` parameter on the logistic regression classifier\n",
    "* don't lower-case the text \n",
    "* use a `CountVectorizer` instead of a TF-IDF vectorizer\n",
    "* set `max_df` to remove common features\n",
    "\n",
    "Which do you think will lead to higher performance? Try some out and report on the Slack or Piazza what's the highest performance you can achieve!"
   ]
  },
  {
   "cell_type": "code",
   "execution_count": 23,
   "metadata": {},
   "outputs": [
    {
     "name": "stdout",
     "output_type": "stream",
     "text": [
      "[0.5621433100523915, 0.6283041043328923, 0.6574301325285332, 0.6670001734796881, 0.6829639076160556]\n"
     ]
    },
    {
     "data": {
      "text/plain": [
       "<AxesSubplot: xlabel='num_instances', ylabel='f1'>"
      ]
     },
     "execution_count": 23,
     "metadata": {},
     "output_type": "execute_result"
    },
    {
     "data": {
      "image/png": "[encoded data removed]",
      "text/plain": [
       "<Figure size 640x480 with 1 Axes>"
      ]
     },
     "metadata": {},
     "output_type": "display_data"
    }
   ],
   "source": [
    "print(performace_f1_scores)\n",
    "\n",
    "df = pd.DataFrame({'num_instances': training_sizes, 'f1': performace_f1_scores})\n",
    "sns.barplot(data=df, x='num_instances', y='f1')"
   ]
  },
  {
   "attachments": {},
   "cell_type": "markdown",
   "metadata": {},
   "source": [
    "Try a uni, bi, and trigram vectorizer"
   ]
  },
  {
   "cell_type": "code",
   "execution_count": 27,
   "metadata": {},
   "outputs": [
    {
     "name": "stdout",
     "output_type": "stream",
     "text": [
      "(333414, 23797)\n"
     ]
    }
   ],
   "source": [
    "trigram_vectorizer = TfidfVectorizer(stop_words='english', min_df=25, ngram_range=(1,3))\n",
    "X_train = trigram_vectorizer.fit_transform(train_df.original_text)\n",
    "print(X_train.shape)\n",
    "clf = LogisticRegression(random_state=RANDOM_SEED, multi_class='ovr', solver= 'newton-cholesky')\n",
    "clf.fit(X_train, y_train)\n",
    "#featurize the dev data\n",
    "X_dev = trigram_vectorizer.transform(dev_df.original_text)\n",
    "#predict the dev data and score\n",
    "lr_trigram_dev_preds = clf.predict(X_dev)\n",
    "lr_f1 = f1_score(y_dev, lr_trigram_dev_preds, average='macro')"
   ]
  },
  {
   "cell_type": "code",
   "execution_count": 28,
   "metadata": {},
   "outputs": [
    {
     "name": "stdout",
     "output_type": "stream",
     "text": [
      "0.6880169450552442\n"
     ]
    }
   ],
   "source": [
    "print(lr_f1)"
   ]
  },
  {
   "attachments": {},
   "cell_type": "markdown",
   "metadata": {},
   "source": [
    "min_df @ 500, ngram_range(1,3), multi_class='ovr', solver = 'newton-cholesky' (didn't take too long) scored 0.6451618658\n",
    "min_df @  25, ngram_range(1,3), multi_class='ovr', solver = 'newton-cholesky' (6m 19.1s) scored 0.6880169450552442"
   ]
  },
  {
   "attachments": {},
   "cell_type": "markdown",
   "metadata": {},
   "source": [
    "Read in the Dale Chall text - into a list"
   ]
  },
  {
   "cell_type": "code",
   "execution_count": 31,
   "metadata": {},
   "outputs": [
    {
     "name": "stdout",
     "output_type": "stream",
     "text": [
      "['a', 'able', 'aboard', 'about', 'above ']\n"
     ]
    }
   ],
   "source": [
    "dc_text = open(r'/Users/staceybruestle/Documents/Documents/Education/MADS/Coursework/aSIADS696- Milestone 2/Readability Project/Data/dale_chall.txt', \"r\")\n",
    "dalechall_file = dc_text.read()\n",
    "# split text on new line\n",
    "dalechall_list = dalechall_file.split('\\n')\n",
    "print(dalechall_list[0:5])"
   ]
  },
  {
   "cell_type": "code",
   "execution_count": 32,
   "metadata": {},
   "outputs": [
    {
     "data": {
      "text/plain": [
       "2950"
      ]
     },
     "execution_count": 32,
     "metadata": {},
     "output_type": "execute_result"
    }
   ],
   "source": [
    "len(dalechall_list)"
   ]
  },
  {
   "cell_type": "code",
   "execution_count": null,
   "metadata": {},
   "outputs": [],
   "source": []
  }
 ],
 "metadata": {
  "kernelspec": {
   "display_name": "Python 3",
   "language": "python",
   "name": "python3"
  },
  "language_info": {
   "codemirror_mode": {
    "name": "ipython",
    "version": 3
   },
   "file_extension": ".py",
   "mimetype": "text/x-python",
   "name": "python",
   "nbconvert_exporter": "python",
   "pygments_lexer": "ipython3",
   "version": "3.10.4 (v3.10.4:9d38120e33, Mar 23 2022, 17:29:05) [Clang 13.0.0 (clang-1300.0.29.30)]"
  },
  "orig_nbformat": 4,
  "vscode": {
   "interpreter": {
    "hash": "aee8b7b246df8f9039afb4144a1f6fd8d2ca17a180786b69acc140d282b71a49"
   }
  }
 },
 "nbformat": 4,
 "nbformat_minor": 2
}
