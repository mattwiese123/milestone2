{
 "cells": [
  {
   "cell_type": "code",
   "execution_count": 32,
   "metadata": {},
   "outputs": [],
   "source": [
    "import pandas as pd\n",
    "import re\n",
    "pd.options.display.max_rows = 100\n",
    "pd.options.display.width = 150\n"
   ]
  },
  {
   "cell_type": "code",
   "execution_count": 33,
   "metadata": {},
   "outputs": [
    {
     "data": {
      "text/plain": [
       "150"
      ]
     },
     "execution_count": 33,
     "metadata": {},
     "output_type": "execute_result"
    }
   ],
   "source": [
    "pd.get_option(\"display.width\")"
   ]
  },
  {
   "cell_type": "code",
   "execution_count": null,
   "metadata": {},
   "outputs": [],
   "source": [
    "WikiLarge_Train_df = pd.read_csv(r'/Users/staceybruestle/Documents/Documents/Education/MADS/Coursework/aSIADS696- Milestone 2/Readability Project/Data/WikiLarge_Train.csv')#, \\"
   ]
  },
  {
   "cell_type": "code",
   "execution_count": 15,
   "metadata": {},
   "outputs": [
    {
     "name": "stdout",
     "output_type": "stream",
     "text": [
      "                                            original_text  label  parsed_list\n",
      "416763  A Duke Nukem 3D version has been sold for Xbox...      0          NaN\n",
      "416764  However , it is becoming replaced as a method ...      0          NaN\n",
      "416765  There are hand gestures in both Hindu and Budd...      0          NaN\n",
      "416766  If it is necessary to use colors , try to choo...      0          NaN\n",
      "416767                               Calgary Stampeders ,      0          NaN\n",
      "1    208384\n",
      "0    208384\n",
      "Name: label, dtype: int64\n"
     ]
    }
   ],
   "source": [
    "print(WikiLarge_Train_df.tail())\n",
    "print(WikiLarge_Train_df['label'].value_counts())"
   ]
  },
  {
   "cell_type": "code",
   "execution_count": 44,
   "metadata": {},
   "outputs": [],
   "source": [
    "WikiLarge_Train_df['parsed_list'] = 0\n",
    "for i, row in WikiLarge_Train_df.iterrows():\n",
    "        temp = row['original_text']\n",
    "        # print(\"temp:\", temp)\n",
    "        #WikiLarge_Train_df['parsed_list'].at[i] = re.split(r'(-|,|\\s)\\s*', temp)\n",
    "        WikiLarge_Train_df['parsed_list'].at[i] = re.split(r'(\\s)', temp)\n"
   ]
  },
  {
   "cell_type": "code",
   "execution_count": 45,
   "metadata": {},
   "outputs": [
    {
     "name": "stdout",
     "output_type": "stream",
     "text": [
      "                                       original_text  label                                        parsed_list\n",
      "0  There is manuscript evidence that Austen conti...      1  [There,  , is,  , manuscript,  , evidence,  , ...\n",
      "1  In a remarkable comparative analysis , Mandaea...      1  [In,  , a,  , remarkable,  , comparative,  , a...\n",
      "2  Before Persephone was released to Hermes , who...      1  [Before,  , Persephone,  , was,  , released,  ...\n",
      "3  Cogeneration plants are commonly found in dist...      1  [Cogeneration,  , plants,  , are,  , commonly,...\n",
      "4  Geneva -LRB- , ; , ; , ; ; -RRB- is the second...      1  [Geneva,  , -LRB-,  , ,,  , ;,  , ,,  , ;,  , ...\n"
     ]
    }
   ],
   "source": [
    "print(WikiLarge_Train_df.head(5))"
   ]
  },
  {
   "cell_type": "code",
   "execution_count": 41,
   "metadata": {},
   "outputs": [
    {
     "name": "stdout",
     "output_type": "stream",
     "text": [
      "word: Geneva\n",
      "word:  \n",
      "word: -LRB-\n",
      "word:  \n",
      "word: ,\n",
      "word:  \n",
      "word: ;\n",
      "word:  \n",
      "word: ,\n",
      "word:  \n",
      "word: ;\n",
      "word:  \n",
      "word: ,\n",
      "word:  \n",
      "word: ;\n",
      "word:  \n",
      "word: ;\n",
      "word:  \n",
      "word: -RRB-\n",
      "word:  \n",
      "word: is\n",
      "word:  \n",
      "word: the\n",
      "word:  \n",
      "word: second-most-populous\n",
      "word:  \n",
      "word: city\n",
      "word:  \n",
      "word: in\n",
      "word:  \n",
      "word: Switzerland\n",
      "word:  \n",
      "word: -LRB-\n",
      "word:  \n",
      "word: after\n",
      "word:  \n",
      "word: Zürich\n",
      "word:  \n",
      "word: -RRB-\n",
      "word:  \n",
      "word: and\n",
      "word:  \n",
      "word: is\n",
      "word:  \n",
      "word: the\n",
      "word:  \n",
      "word: most\n",
      "word:  \n",
      "word: populous\n",
      "word:  \n",
      "word: city\n",
      "word:  \n",
      "word: of\n",
      "word:  \n",
      "word: Romandie\n",
      "word:  \n",
      "word: -LRB-\n",
      "word:  \n",
      "word: the\n",
      "word:  \n",
      "word: French-speaking\n",
      "word:  \n",
      "word: part\n",
      "word:  \n",
      "word: of\n",
      "word:  \n",
      "word: Switzerland\n",
      "word:  \n",
      "word: -RRB-\n",
      "word:  \n",
      "word: .\n"
     ]
    }
   ],
   "source": [
    "for word in WikiLarge_Train_df['parsed_list'][4]:\n",
    "    print(\"word:\", word)"
   ]
  },
  {
   "cell_type": "code",
   "execution_count": null,
   "metadata": {},
   "outputs": [],
   "source": []
  },
  {
   "cell_type": "code",
   "execution_count": null,
   "metadata": {},
   "outputs": [],
   "source": []
  }
 ],
 "metadata": {
  "kernelspec": {
   "display_name": "Python 3",
   "language": "python",
   "name": "python3"
  },
  "language_info": {
   "codemirror_mode": {
    "name": "ipython",
    "version": 3
   },
   "file_extension": ".py",
   "mimetype": "text/x-python",
   "name": "python",
   "nbconvert_exporter": "python",
   "pygments_lexer": "ipython3",
   "version": "3.10.4 (v3.10.4:9d38120e33, Mar 23 2022, 17:29:05) [Clang 13.0.0 (clang-1300.0.29.30)]"
  },
  "orig_nbformat": 4,
  "vscode": {
   "interpreter": {
    "hash": "aee8b7b246df8f9039afb4144a1f6fd8d2ca17a180786b69acc140d282b71a49"
   }
  }
 },
 "nbformat": 4,
 "nbformat_minor": 2
}
